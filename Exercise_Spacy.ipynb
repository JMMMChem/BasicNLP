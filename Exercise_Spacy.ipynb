{
  "nbformat": 4,
  "nbformat_minor": 0,
  "metadata": {
    "colab": {
      "name": "Exercise-Spacy.ipynb",
      "provenance": [],
      "collapsed_sections": [],
      "authorship_tag": "ABX9TyOKyPfwZ+c/fGmrM5oJft/q",
      "include_colab_link": true
    },
    "kernelspec": {
      "name": "python3",
      "display_name": "Python 3"
    }
  },
  "cells": [
    {
      "cell_type": "markdown",
      "metadata": {
        "id": "view-in-github",
        "colab_type": "text"
      },
      "source": [
        "<a href=\"https://colab.research.google.com/github/isegura/BasicNLP/blob/master/Exercise_Spacy.ipynb\" target=\"_parent\"><img src=\"https://colab.research.google.com/assets/colab-badge.svg\" alt=\"Open In Colab\"/></a>"
      ]
    },
    {
      "cell_type": "markdown",
      "metadata": {
        "id": "IA7anSB0o0c9",
        "colab_type": "text"
      },
      "source": [
        "# Exercise: Reading NLP dataset\n",
        "\n",
        "When you are developing a NLP system, the first task that you should do is to read the dataset (or corpus, which is a collection of annotated dataset). So for a NER system, the annotations repreent the entities to recognize. These annotations usually include the text of the entity, the start and end positions within the text and its entity type. On the other hand, the annotations needed for a text classifiction system will be at document level. That is, each document is annotated with its corresponding category.\n",
        "\n",
        "In this tutorial, we will learn how to load the texts and their annotations to develop a system for recognizing drug names in abstracts (summaries of medical articles published in Medline). \n",
        "\n",
        "We will load a small part of the CHEMDNER corpus (https://biocreative.bioinformatics.udel.edu/resources/biocreative-iv/chemdner-corpus/). Our dataset includes two files:\n",
        "- **training.abstracts.txt** contains the texts. Each line contains the Id and text of a Medline abstract.\n",
        "- **training.annotations.txt** contains their corresponding annotations of drug mentions in these abstracts. Each line contains a drug mention, with the following fields: id of the abstract, A (refers to 'Abstract'), start position, end position, drug name, and its type."
      ]
    },
    {
      "cell_type": "code",
      "metadata": {
        "id": "_GI84_41oy0o",
        "colab_type": "code",
        "outputId": "84a4cde2-6d2d-46ec-e57f-733e0b939ccc",
        "colab": {
          "base_uri": "https://localhost:8080/",
          "height": 51
        }
      },
      "source": [
        "from google.colab import drive\n",
        "drive.mount(\"/content/drive/\")\n",
        "!ls"
      ],
      "execution_count": 0,
      "outputs": [
        {
          "output_type": "stream",
          "text": [
            "Drive already mounted at /content/drive/; to attempt to forcibly remount, call drive.mount(\"/content/drive/\", force_remount=True).\n",
            "drive  sample_data\n"
          ],
          "name": "stdout"
        }
      ]
    },
    {
      "cell_type": "code",
      "metadata": {
        "id": "VJ_DhDoGozfr",
        "colab_type": "code",
        "outputId": "beb8314a-c890-4db6-a549-df0d292b4be5",
        "colab": {
          "base_uri": "https://localhost:8080/",
          "height": 921
        }
      },
      "source": [
        "sst_home='drive/My Drive/Colab Notebooks/'\n",
        "#replace this folder with the name of your folder in Google Colab, \n",
        "#where you are saving your notebooks of this course\n",
        "sst_home += 'TESI/basicNLP/sample/'\n",
        "\n",
        "file_text = sst_home + 'training.abstracts.txt'\n",
        "file_ann = sst_home + 'training.annotations.txt'\n",
        "\n",
        "\n",
        "texts = open(file_text)\n",
        "for text in texts:\n",
        "  print(text)\n",
        "\n",
        "annotations=open(file_ann)\n",
        "for a in annotations:\n",
        "  print(a)\n"
      ],
      "execution_count": 0,
      "outputs": [
        {
          "output_type": "stream",
          "text": [
            "21826085\tDPP6 as a candidate gene for neuroleptic-induced tardive dyskinesia.\tWe implemented a two-step approach to detect potential predictor gene variants for neuroleptic-induced tardive dyskinesia (TD) in schizophrenic subjects. First, we screened associations by using a genome-wide (Illumina HumanHapCNV370) SNP array in 61 Japanese schizophrenia patients with treatment-resistant TD and 61 Japanese schizophrenia patients without TD. Next, we performed a replication analysis in 36 treatment-resistant TD and 138 non-TD subjects. An association of an SNP in the DPP6 (dipeptidyl peptidase-like protein-6) gene, rs6977820, the most promising association identified by the screen, was significant in the replication sample (allelic P=0.008 in the replication sample, allelic P=4.6 × 10(-6), odds ratio 2.32 in the combined sample). The SNP is located in intron-1 of the DPP6 gene and the risk allele was associated with decreased DPP6 gene expression in the human postmortem prefrontal cortex. Chronic administration of haloperidol increased Dpp6 expression in mouse brains. DPP6 is an auxiliary subunit of Kv4 and regulates the properties of Kv4, which regulates the activity of dopaminergic neurons. The findings of this study indicate that an altered response of Kv4/DPP6 to long-term neuroleptic administration is involved in neuroleptic-induced TD.\n",
            "\n",
            "22080034\tNanosilver effects on growth parameters in experimental aflatoxicosis in broiler chickens.\tAflatoxicosis is a cause of economic losses in broiler production. In this study, the effect of one commercial nanocompound, Nanocid (Nano Nasb Pars Co., Iran) was evaluated in reduction of aflatoxin effects on the growth and performance indices in broiler chickens suffering from experimental aflatoxicosis. For this, a total of 300 one-day-old broiler chicks (Ross strain) were randomly divided into 4 groups with 3 replicates of 15 chicks in each separated pen during the 28-day experiment. Treatment groups including group A: chickens fed basal diet, group B: chickens fed 3 ppm productive aflatoxin in basal diet, group C: chickens fed basal diet plus 2500 ppm Nanocid, and group D: chickens fed 3 ppm productive aflatoxin and 2500 ppm Nanocid, in basal diet. Data on body weight, body weight gain (BWG), feed intake, and feed conversion ratio (FCR) were recorded at weekly intervals. Also cumulative data were assessed. Results showed, although supplement of Nanocid to conventional diet had no effect on performance but addition of Nanocid to diet containing 3 ppm aflatoxin increased significantly the cumulative BWG, cumulative feed consumption and decreased FCR in the last 2 weeks of experimental period. The improvement in these performance indices by supplement of Nanocid to diet containing aflatoxin showed the ability of Nanocid to diminish the inhibitory effects of aflatoxin.\n",
            "\n",
            "22080035\tThe influence of the intensity of smoking and years of work in the metallurgy on pro-oxidant/antioxidant balance in the blood of smelters.\tThe aim of this study was to investigate the effect of cigarette smoking and occupational exposure to heavy metals on the degree of pro-oxidant/antioxidant imbalance in smelters. The investigations were performed on the blood and urine of 400 subjects: 300 male copper smelters and 100 nonexposed male subjects. Biological material was divided into three groups: nonsmokers, those who smoked less than 20 cigarettes a day and those who smoked more than 20 cigarettes a day. The results showed a significant increase in the concentration of lead, cadmium and arsenic in the blood and urine of smelters, while smoking more than 20 cigarettes a day caused a further increase in the concentration of these metals. The level of malondialdehyde was approximately twofold higher in the plasma of the smelters compared to the control group. We have observed a disturbance in the level of antioxidants in erythrocyte lysate manifested by an increase in metallothionein and glutathione concentrations as well as superoxide dismutase and glutathione peroxidase activities and the decrease in glutathione S-transferase activity. Cigarette smoking, years of work in metallurgy and age of smelters were additional factors significantly affecting the pro-oxidant/antioxidant balance.\n",
            "\n",
            "22080037\tMercury induces the expression of cyclooxygenase-2 and inducible nitric oxide synthase.\tNuclear factor-κB (NF-κB) is a transcription factor that mediates the inducible expression of a variety of genes involved in immune and inflammatory responses. NF-κB activation induces numerous proinflammatory gene products including cytokines, cyclooxygenase-2 (COX-2), and inducible nitric oxide synthase (iNOS). The divalent heavy metal mercury has been used for thousands of years. Although mercury is clearly toxic to most mammalian organ systems, especially the immune system, exposure has still increased in some areas of the world. However, the underlying toxic mechanism is not clearly identified. Here, we report biochemical evidence that mercury alone induces NF-κB activation, resulting in the induced expression of COX-2 and iNOS. The results suggest that mercury can induce inflammatory diseases by lowering host defense.\n",
            "21826085\tA\t946\t957\thaloperidol\tTRIVIAL\n",
            "\n",
            "22080034\tA\t190\t199\taflatoxin\tFAMILY\n",
            "\n",
            "22080034\tA\t594\t603\taflatoxin\tFAMILY\n",
            "\n",
            "22080034\tA\t718\t727\taflatoxin\tFAMILY\n",
            "\n",
            "22080034\tA\t1072\t1081\taflatoxin\tFAMILY\n",
            "\n",
            "22080034\tA\t1305\t1314\taflatoxin\tFAMILY\n",
            "\n",
            "22080034\tA\t1383\t1392\taflatoxin\tFAMILY\n",
            "\n",
            "22080035\tA\t262\t268\tcopper\tSYSTEMATIC\n",
            "\n",
            "22080035\tA\t546\t553\tcadmium\tSYSTEMATIC\n",
            "\n",
            "22080035\tA\t558\t565\tarsenic\tSYSTEMATIC\n",
            "\n",
            "22080035\tA\t723\t738\tmalondialdehyde\tTRIVIAL\n",
            "\n",
            "22080035\tA\t964\t975\tglutathione\tTRIVIAL\n",
            "\n",
            "22080035\tA\t1002\t1012\tsuperoxide\tTRIVIAL\n",
            "\n",
            "22080035\tA\t1027\t1038\tglutathione\tTRIVIAL\n",
            "\n",
            "22080035\tA\t1081\t1092\tglutathione\tTRIVIAL\n",
            "\n",
            "22080035\tA\t1093\t1094\tS\tFORMULA\n",
            "\n",
            "22080037\tT\t0\t7\tMercury\tSYSTEMATIC\n",
            "\n",
            "22080037\tT\t65\t77\tnitric oxide\tSYSTEMATIC\n",
            "\n",
            "22080037\tA\t285\t297\tnitric oxide\tSYSTEMATIC\n",
            "\n",
            "22080037\tA\t340\t347\tmercury\tSYSTEMATIC\n",
            "\n",
            "22080037\tA\t395\t402\tmercury\tSYSTEMATIC\n",
            "\n",
            "22080037\tA\t649\t656\tmercury\tSYSTEMATIC\n",
            "\n",
            "22080037\tA\t769\t776\tmercury\tSYSTEMATIC\n"
          ],
          "name": "stdout"
        }
      ]
    },
    {
      "cell_type": "markdown",
      "metadata": {
        "id": "wKtZgKdeu8HL",
        "colab_type": "text"
      },
      "source": [
        "The goal of this exercise is to read the texts and their annotations and then create an IOB format for the tokens in texts. \n",
        "\n",
        "The IOB format is a simple text chunking format that divides texts into single tokens per line, and, separated by a whitespace, tags to mark named entities. To mark named entities that span multiple tokens, the tags have a prefix of either B- (beginning of named entity) or I- (inside of named entity). O (outside of named entity) tags are used to mark tokens that are not a named entity.\n",
        "\n",
        "For example:\n",
        "\n",
        "* **Mercury** *induces the expression of cyclooxygenase-2 and inducible **nitric oxide** synthase.* \n",
        "\n",
        "The IOB format will be:\n",
        "<table>\n",
        "<tr><td>Mercury B</td></tr>\n",
        "<tr><td>induces O</td></tr>\n",
        "<tr><td>the O</td></tr>\n",
        "<tr><td>expression O</td></tr>\n",
        "<tr><td>of O</td></tr>\n",
        "<tr><td>cyclooxygenase-2 O</td></tr>\n",
        "<tr><td>and O</td></tr>\n",
        "<tr><td>inducible O</td></tr>\n",
        "<tr><td>nitric B</td></tr>\n",
        "<tr><td>oxide I</td></tr>\n",
        "<tr><td>synthase O</td></tr>\n",
        "<tr><td>. O</td></tr>\n",
        "</table>\n",
        "\n",
        "Moreover, we can extend this IOB format by including the following features:\n",
        "- PoS tag, \n",
        "- lemma, \n",
        "- shape, \n",
        "- isUpper (a boolean value indicanding if the token is uppercase),\n",
        "- isNumber (a boolean value refering if the token is a number),  \n",
        "- isPunct (a boolean value referring if the token is a puntuaction), \n",
        "- start and end positions within the text \n",
        "- $w_{-2}$, $w_{-1}$ the two previous words, their PoS tags and their IOB tags.\n",
        "- $w_1, w_2$ the two next words, their PoS tags and their IOB tags.\n",
        "- IOB tag\n",
        "\n",
        "You should use Spacy (or NLTK) to obtain these features. \n",
        "\n",
        "Remember that each line should represent a token and their features. Please, use '\\t' to separate the features. Also, each line should contains the id of the abstract of the token. \n",
        "\n",
        "Save the new format into a file \"training.iob.txt\". \n",
        "\n",
        "\n",
        "\n",
        "\n"
      ]
    }
  ]
}