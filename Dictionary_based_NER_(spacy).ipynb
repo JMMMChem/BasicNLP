{
  "nbformat": 4,
  "nbformat_minor": 0,
  "metadata": {
    "colab": {
      "name": "Dictionary based NER (spacy).ipynb",
      "provenance": [],
      "collapsed_sections": [],
      "include_colab_link": true
    },
    "kernelspec": {
      "name": "python3",
      "display_name": "Python 3"
    }
  },
  "cells": [
    {
      "cell_type": "markdown",
      "metadata": {
        "id": "view-in-github",
        "colab_type": "text"
      },
      "source": [
        "<a href=\"https://colab.research.google.com/github/isegura/BasicNLP/blob/master/Dictionary_based_NER_(spacy).ipynb\" target=\"_parent\"><img src=\"https://colab.research.google.com/assets/colab-badge.svg\" alt=\"Open In Colab\"/></a>"
      ]
    },
    {
      "cell_type": "markdown",
      "metadata": {
        "id": "MR_FqfiQ5cLx",
        "colab_type": "text"
      },
      "source": [
        "#  Named Entity Recognition based on dictionaries\n",
        "\n",
        "In this tutorial, we are going to study the easiest approach to deal with the NER task. This approach is based on the use of dictionaries. We will use the spacy-lookup library.\n",
        "\n",
        "https://github.com/mpuig/spacy-lookup\n",
        "\n",
        "spacy-lookup requires spacy v2.0.16 or higher.\n",
        "\n",
        "\n",
        "In particular, this tutorial will teach you to:\n",
        "- Add Named Entities metadata to Doc objects in Spacy. \n",
        "- Detect Named Entities using dictionaries. \n",
        "\n",
        "First, you need to install spacy and spacy-lookup\n"
      ]
    },
    {
      "cell_type": "code",
      "metadata": {
        "id": "iQjc3GLh2bz8",
        "colab_type": "code",
        "outputId": "ae37fec0-0a2e-494b-8bbe-e732cc8e3bf6",
        "colab": {
          "base_uri": "https://localhost:8080/",
          "height": 462
        }
      },
      "source": [
        "!python -m spacy download es\n",
        "!pip install spacy-lookup"
      ],
      "execution_count": 30,
      "outputs": [
        {
          "output_type": "stream",
          "text": [
            "Requirement already satisfied: es_core_news_sm==2.1.0 from https://github.com/explosion/spacy-models/releases/download/es_core_news_sm-2.1.0/es_core_news_sm-2.1.0.tar.gz#egg=es_core_news_sm==2.1.0 in /usr/local/lib/python3.6/dist-packages (2.1.0)\n",
            "\u001b[38;5;2m✔ Download and installation successful\u001b[0m\n",
            "You can now load the model via spacy.load('es_core_news_sm')\n",
            "\u001b[38;5;2m✔ Linking successful\u001b[0m\n",
            "/usr/local/lib/python3.6/dist-packages/es_core_news_sm -->\n",
            "/usr/local/lib/python3.6/dist-packages/spacy/data/es\n",
            "You can now load the model via spacy.load('es')\n",
            "Requirement already satisfied: spacy-lookup in /usr/local/lib/python3.6/dist-packages (0.1.0)\n",
            "Requirement already satisfied: flashtext>=2.7 in /usr/local/lib/python3.6/dist-packages (from spacy-lookup) (2.7)\n",
            "Requirement already satisfied: spacy<3.0.0,>=2.0.16 in /usr/local/lib/python3.6/dist-packages (from spacy-lookup) (2.1.9)\n",
            "Requirement already satisfied: murmurhash<1.1.0,>=0.28.0 in /usr/local/lib/python3.6/dist-packages (from spacy<3.0.0,>=2.0.16->spacy-lookup) (1.0.2)\n",
            "Requirement already satisfied: srsly<1.1.0,>=0.0.6 in /usr/local/lib/python3.6/dist-packages (from spacy<3.0.0,>=2.0.16->spacy-lookup) (1.0.1)\n",
            "Requirement already satisfied: numpy>=1.15.0 in /usr/local/lib/python3.6/dist-packages (from spacy<3.0.0,>=2.0.16->spacy-lookup) (1.17.5)\n",
            "Requirement already satisfied: blis<0.3.0,>=0.2.2 in /usr/local/lib/python3.6/dist-packages (from spacy<3.0.0,>=2.0.16->spacy-lookup) (0.2.4)\n",
            "Requirement already satisfied: plac<1.0.0,>=0.9.6 in /usr/local/lib/python3.6/dist-packages (from spacy<3.0.0,>=2.0.16->spacy-lookup) (0.9.6)\n",
            "Requirement already satisfied: wasabi<1.1.0,>=0.2.0 in /usr/local/lib/python3.6/dist-packages (from spacy<3.0.0,>=2.0.16->spacy-lookup) (0.6.0)\n",
            "Requirement already satisfied: thinc<7.1.0,>=7.0.8 in /usr/local/lib/python3.6/dist-packages (from spacy<3.0.0,>=2.0.16->spacy-lookup) (7.0.8)\n",
            "Requirement already satisfied: requests<3.0.0,>=2.13.0 in /usr/local/lib/python3.6/dist-packages (from spacy<3.0.0,>=2.0.16->spacy-lookup) (2.21.0)\n",
            "Requirement already satisfied: cymem<2.1.0,>=2.0.2 in /usr/local/lib/python3.6/dist-packages (from spacy<3.0.0,>=2.0.16->spacy-lookup) (2.0.3)\n",
            "Requirement already satisfied: preshed<2.1.0,>=2.0.1 in /usr/local/lib/python3.6/dist-packages (from spacy<3.0.0,>=2.0.16->spacy-lookup) (2.0.1)\n",
            "Requirement already satisfied: tqdm<5.0.0,>=4.10.0 in /usr/local/lib/python3.6/dist-packages (from thinc<7.1.0,>=7.0.8->spacy<3.0.0,>=2.0.16->spacy-lookup) (4.28.1)\n",
            "Requirement already satisfied: certifi>=2017.4.17 in /usr/local/lib/python3.6/dist-packages (from requests<3.0.0,>=2.13.0->spacy<3.0.0,>=2.0.16->spacy-lookup) (2019.11.28)\n",
            "Requirement already satisfied: urllib3<1.25,>=1.21.1 in /usr/local/lib/python3.6/dist-packages (from requests<3.0.0,>=2.13.0->spacy<3.0.0,>=2.0.16->spacy-lookup) (1.24.3)\n",
            "Requirement already satisfied: chardet<3.1.0,>=3.0.2 in /usr/local/lib/python3.6/dist-packages (from requests<3.0.0,>=2.13.0->spacy<3.0.0,>=2.0.16->spacy-lookup) (3.0.4)\n",
            "Requirement already satisfied: idna<2.9,>=2.5 in /usr/local/lib/python3.6/dist-packages (from requests<3.0.0,>=2.13.0->spacy<3.0.0,>=2.0.16->spacy-lookup) (2.8)\n"
          ],
          "name": "stdout"
        }
      ]
    },
    {
      "cell_type": "markdown",
      "metadata": {
        "id": "8aW3Ia436Adv",
        "colab_type": "text"
      },
      "source": [
        "Now, we must load our local "
      ]
    },
    {
      "cell_type": "code",
      "metadata": {
        "colab_type": "code",
        "outputId": "20a7e5a0-aa93-41b6-c269-1a72f64b3743",
        "id": "o82SiwElzP_F",
        "colab": {
          "base_uri": "https://localhost:8080/",
          "height": 68
        }
      },
      "source": [
        "from google.colab import drive\n",
        "drive.mount(\"/content/drive/\")\n",
        "\n",
        "!ls 'drive/My Drive/Colab Notebooks/TESI/4-NER/'\n",
        "\n",
        "#MODIFY THIS PATH \n",
        "path='drive/My Drive/Colab Notebooks/TESI/4-NER/'\n"
      ],
      "execution_count": 31,
      "outputs": [
        {
          "output_type": "stream",
          "text": [
            "Drive already mounted at /content/drive/; to attempt to forcibly remount, call drive.mount(\"/content/drive/\", force_remount=True).\n",
            " chemdner_corpus\t\t       IntroNER-spacy.ipynb   Untitled0.ipynb\n",
            "'Dictionary based NER (spacy).ipynb'   resources\n"
          ],
          "name": "stdout"
        }
      ]
    },
    {
      "cell_type": "markdown",
      "metadata": {
        "id": "lmQVsqjpz5Fn",
        "colab_type": "text"
      },
      "source": [
        "The following cell contains the code to load dictionaries (stored in 'resources'). In particular, we are going to load a dictionary containing rare diseases names and another containing symptoms. "
      ]
    },
    {
      "cell_type": "code",
      "metadata": {
        "id": "K4_wqvgHJIK2",
        "colab_type": "code",
        "outputId": "89d4c738-3ee7-4a54-80af-d7e4902e1ab4",
        "colab": {
          "base_uri": "https://localhost:8080/",
          "height": 51
        }
      },
      "source": [
        "import csv\n",
        "\n",
        "def load_dictionary(path_file,dictionary):\n",
        "  \"\"\"This function reads a file and save the first column into a list. \n",
        "  This list is an input parameter, which is modified. We need to pass\n",
        "  the list as parameter, because if the list is returned, \n",
        "  its type becomes to NoneType\"\"\"\n",
        "  with open(path_file, 'r') as f:\n",
        "    reader = csv.reader(f)\n",
        "    list_values = list(reader)\n",
        "\n",
        "  for x in list_values:\n",
        "      #print(x[0])\n",
        "      dictionary.append(x[0].lower())\n",
        "\n",
        "  print('dictionary loaded',len(dictionary))\n",
        "\n",
        "\n",
        "path_file=path+'resources/diseases-rare.csv'\n",
        "diseases=[]\n",
        "load_dictionary(path_file,diseases)\n",
        "#print(type(diseases))\n",
        "\n",
        "path_file=path+'resources/sintomas-es.csv'\n",
        "symptoms=[]\n",
        "load_dictionary(path_file,symptoms)\n",
        "#print(type(symptoms))\n",
        "\n"
      ],
      "execution_count": 32,
      "outputs": [
        {
          "output_type": "stream",
          "text": [
            "dictionary loaded 20633\n",
            "dictionary loaded 82\n"
          ],
          "name": "stdout"
        }
      ]
    },
    {
      "cell_type": "markdown",
      "metadata": {
        "id": "vbfk37196PlQ",
        "colab_type": "text"
      },
      "source": [
        "\n",
        "Now, we load the model and replace the NER module with de entity diseaseEnt. We do this to avoid overlapping of entities.\n",
        "Then, we also add symptomEnt.\n",
        "\n"
      ]
    },
    {
      "cell_type": "code",
      "metadata": {
        "id": "G37vE1XL6OjK",
        "colab_type": "code",
        "outputId": "a8c6d376-947d-4c47-ddaf-17cbf805bd9f",
        "colab": {
          "base_uri": "https://localhost:8080/",
          "height": 34
        }
      },
      "source": [
        "import spacy\n",
        "from spacy_lookup import Entity\n",
        "\n",
        "nlp = spacy.load('es')\n",
        "\n",
        "#diseases = Entity(keywords_list=['ataxia de Friedrich', 'FRDA', 'escoliosis', 'escoliosis', 'diabetes mellitus'],label=\"Disease\")\n",
        "diseaseEnt = Entity(keywords_list=diseases,label=\"DISEASE\")\n",
        "symptomEnt = Entity(keywords_list=symptoms,label=\"SYMPTOM\")\n",
        "\n",
        "#we replace the common entities with diseases\n",
        "nlp.replace_pipe(\"ner\", diseaseEnt)\n",
        "#now we add pipe\n",
        "nlp.add_pipe(symptomEnt, last=True)\n",
        "\n",
        "print('entities loaded in nlp')\n"
      ],
      "execution_count": 33,
      "outputs": [
        {
          "output_type": "stream",
          "text": [
            "entities loaded in nlp\n"
          ],
          "name": "stdout"
        }
      ]
    },
    {
      "cell_type": "markdown",
      "metadata": {
        "id": "mz9eWLor3avj",
        "colab_type": "text"
      },
      "source": [
        "Now, we can process a text and show its entities:"
      ]
    },
    {
      "cell_type": "code",
      "metadata": {
        "id": "mchBqdfv3aFv",
        "colab_type": "code",
        "outputId": "bff09acd-69b8-433d-d653-b0a0e9bc4ec6",
        "colab": {
          "base_uri": "https://localhost:8080/",
          "height": 204
        }
      },
      "source": [
        "text = u\"La ataxia de Friedrich (FRDA) es un trastorno neurodegenerativo hereditario que se caracteriza clásicamente por una ataxia progresiva de la marcha, disartria, disfagia, disfunción oculomotora, pérdida de los reflejos tendinosos profundos, signos de afectación del tracto piramidal, escoliosis, y en algunos casos, miocardiopatía, diabetes mellitus, pérdida visual y audición defectuosa\"\n",
        "text=text.lower()\n",
        "doc = nlp(text)\n",
        "#print([(token.text, token._.canonical) for token in doc if token._.is_entity])\n",
        "#we show the entities and their types recognized in the text\n",
        "#dict([(str(x), x.label_) for x in nlp(str(text)).ents])\n",
        "\n",
        "for x in doc.ents:\n",
        "  print(x.text,x.label_,x.start_char,x.end_char)"
      ],
      "execution_count": 35,
      "outputs": [
        {
          "output_type": "stream",
          "text": [
            "ataxia de friedrich DISEASE 3 22\n",
            "frda DISEASE 24 28\n",
            "ataxia progresiva de la marcha SYMPTOM 116 146\n",
            "disartria SYMPTOM 148 157\n",
            "disfagia SYMPTOM 159 167\n",
            "disfunción oculomotora SYMPTOM 169 191\n",
            "pérdida de los reflejos tendinosos profundos SYMPTOM 193 237\n",
            "signos de afectación del tracto piramidal SYMPTOM 239 280\n",
            "miocardiopatía SYMPTOM 314 328\n",
            "pérdida visual SYMPTOM 349 363\n",
            "audición defectuosa SYMPTOM 366 385\n"
          ],
          "name": "stdout"
        }
      ]
    },
    {
      "cell_type": "code",
      "metadata": {
        "id": "N6I17c6GEIFv",
        "colab_type": "code",
        "outputId": "83a75457-b312-48a2-9313-35fca7ad8c0b",
        "colab": {
          "base_uri": "https://localhost:8080/",
          "height": 142
        }
      },
      "source": [
        "from spacy import displacy\n",
        "ents=[\"DISEASE\",\"SYMPTOM\"]\n",
        "colors={\"DISEASE\":\"#F9E79F\",\"SYMPTOM\":\"#82E0AA\"}\n",
        "options = {\"ents\": ents, \"colors\": colors}\n",
        "\n",
        "#displacy.render(doc, jupyter=True, style=\"ent\", options=get_entity_options(ents))\n",
        "displacy.render(doc, jupyter=True, style=\"ent\", options=options)\n"
      ],
      "execution_count": 36,
      "outputs": [
        {
          "output_type": "display_data",
          "data": {
            "text/html": [
              "<div class=\"entities\" style=\"line-height: 2.5; direction: ltr\">la \n",
              "<mark class=\"entity\" style=\"background: #F9E79F; padding: 0.45em 0.6em; margin: 0 0.25em; line-height: 1; border-radius: 0.35em; box-decoration-break: clone; -webkit-box-decoration-break: clone\">\n",
              "    ataxia de friedrich\n",
              "    <span style=\"font-size: 0.8em; font-weight: bold; line-height: 1; border-radius: 0.35em; text-transform: uppercase; vertical-align: middle; margin-left: 0.5rem\">DISEASE</span>\n",
              "</mark>\n",
              " (\n",
              "<mark class=\"entity\" style=\"background: #F9E79F; padding: 0.45em 0.6em; margin: 0 0.25em; line-height: 1; border-radius: 0.35em; box-decoration-break: clone; -webkit-box-decoration-break: clone\">\n",
              "    frda\n",
              "    <span style=\"font-size: 0.8em; font-weight: bold; line-height: 1; border-radius: 0.35em; text-transform: uppercase; vertical-align: middle; margin-left: 0.5rem\">DISEASE</span>\n",
              "</mark>\n",
              ") es un trastorno neurodegenerativo hereditario que se caracteriza clásicamente por una \n",
              "<mark class=\"entity\" style=\"background: #82E0AA; padding: 0.45em 0.6em; margin: 0 0.25em; line-height: 1; border-radius: 0.35em; box-decoration-break: clone; -webkit-box-decoration-break: clone\">\n",
              "    ataxia progresiva de la marcha\n",
              "    <span style=\"font-size: 0.8em; font-weight: bold; line-height: 1; border-radius: 0.35em; text-transform: uppercase; vertical-align: middle; margin-left: 0.5rem\">SYMPTOM</span>\n",
              "</mark>\n",
              ", \n",
              "<mark class=\"entity\" style=\"background: #82E0AA; padding: 0.45em 0.6em; margin: 0 0.25em; line-height: 1; border-radius: 0.35em; box-decoration-break: clone; -webkit-box-decoration-break: clone\">\n",
              "    disartria\n",
              "    <span style=\"font-size: 0.8em; font-weight: bold; line-height: 1; border-radius: 0.35em; text-transform: uppercase; vertical-align: middle; margin-left: 0.5rem\">SYMPTOM</span>\n",
              "</mark>\n",
              ", \n",
              "<mark class=\"entity\" style=\"background: #82E0AA; padding: 0.45em 0.6em; margin: 0 0.25em; line-height: 1; border-radius: 0.35em; box-decoration-break: clone; -webkit-box-decoration-break: clone\">\n",
              "    disfagia\n",
              "    <span style=\"font-size: 0.8em; font-weight: bold; line-height: 1; border-radius: 0.35em; text-transform: uppercase; vertical-align: middle; margin-left: 0.5rem\">SYMPTOM</span>\n",
              "</mark>\n",
              ", \n",
              "<mark class=\"entity\" style=\"background: #82E0AA; padding: 0.45em 0.6em; margin: 0 0.25em; line-height: 1; border-radius: 0.35em; box-decoration-break: clone; -webkit-box-decoration-break: clone\">\n",
              "    disfunción oculomotora\n",
              "    <span style=\"font-size: 0.8em; font-weight: bold; line-height: 1; border-radius: 0.35em; text-transform: uppercase; vertical-align: middle; margin-left: 0.5rem\">SYMPTOM</span>\n",
              "</mark>\n",
              ", \n",
              "<mark class=\"entity\" style=\"background: #82E0AA; padding: 0.45em 0.6em; margin: 0 0.25em; line-height: 1; border-radius: 0.35em; box-decoration-break: clone; -webkit-box-decoration-break: clone\">\n",
              "    pérdida de los reflejos tendinosos profundos\n",
              "    <span style=\"font-size: 0.8em; font-weight: bold; line-height: 1; border-radius: 0.35em; text-transform: uppercase; vertical-align: middle; margin-left: 0.5rem\">SYMPTOM</span>\n",
              "</mark>\n",
              ", \n",
              "<mark class=\"entity\" style=\"background: #82E0AA; padding: 0.45em 0.6em; margin: 0 0.25em; line-height: 1; border-radius: 0.35em; box-decoration-break: clone; -webkit-box-decoration-break: clone\">\n",
              "    signos de afectación del tracto piramidal\n",
              "    <span style=\"font-size: 0.8em; font-weight: bold; line-height: 1; border-radius: 0.35em; text-transform: uppercase; vertical-align: middle; margin-left: 0.5rem\">SYMPTOM</span>\n",
              "</mark>\n",
              ", escoliosis, y en algunos casos, \n",
              "<mark class=\"entity\" style=\"background: #82E0AA; padding: 0.45em 0.6em; margin: 0 0.25em; line-height: 1; border-radius: 0.35em; box-decoration-break: clone; -webkit-box-decoration-break: clone\">\n",
              "    miocardiopatía\n",
              "    <span style=\"font-size: 0.8em; font-weight: bold; line-height: 1; border-radius: 0.35em; text-transform: uppercase; vertical-align: middle; margin-left: 0.5rem\">SYMPTOM</span>\n",
              "</mark>\n",
              ", diabetes mellitus, \n",
              "<mark class=\"entity\" style=\"background: #82E0AA; padding: 0.45em 0.6em; margin: 0 0.25em; line-height: 1; border-radius: 0.35em; box-decoration-break: clone; -webkit-box-decoration-break: clone\">\n",
              "    pérdida visual\n",
              "    <span style=\"font-size: 0.8em; font-weight: bold; line-height: 1; border-radius: 0.35em; text-transform: uppercase; vertical-align: middle; margin-left: 0.5rem\">SYMPTOM</span>\n",
              "</mark>\n",
              " y \n",
              "<mark class=\"entity\" style=\"background: #82E0AA; padding: 0.45em 0.6em; margin: 0 0.25em; line-height: 1; border-radius: 0.35em; box-decoration-break: clone; -webkit-box-decoration-break: clone\">\n",
              "    audición defectuosa\n",
              "    <span style=\"font-size: 0.8em; font-weight: bold; line-height: 1; border-radius: 0.35em; text-transform: uppercase; vertical-align: middle; margin-left: 0.5rem\">SYMPTOM</span>\n",
              "</mark>\n",
              "</div>"
            ],
            "text/plain": [
              "<IPython.core.display.HTML object>"
            ]
          },
          "metadata": {
            "tags": []
          }
        }
      ]
    }
  ]
}