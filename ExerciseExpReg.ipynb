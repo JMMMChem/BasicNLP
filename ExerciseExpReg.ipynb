{
  "nbformat": 4,
  "nbformat_minor": 0,
  "metadata": {
    "colab": {
      "name": "ExerciseExpReg.ipynb",
      "provenance": [],
      "collapsed_sections": [],
      "include_colab_link": true
    },
    "kernelspec": {
      "name": "python3",
      "display_name": "Python 3"
    }
  },
  "cells": [
    {
      "cell_type": "markdown",
      "metadata": {
        "id": "view-in-github",
        "colab_type": "text"
      },
      "source": [
        "<a href=\"https://colab.research.google.com/github/isegura/BasicNLP/blob/master/ExerciseExpReg.ipynb\" target=\"_parent\"><img src=\"https://colab.research.google.com/assets/colab-badge.svg\" alt=\"Open In Colab\"/></a>"
      ]
    },
    {
      "cell_type": "markdown",
      "metadata": {
        "id": "DkiOKTHr006S",
        "colab_type": "text"
      },
      "source": [
        "# A case of study: extracting data from text\n",
        "\n",
        "we work on the **example-spacy.txt**. Please, take a look over the file. It contains the call for paper for the ACL 2019 conference.\n",
        "\n",
        "You must implement a program to extract the following information from the text: \n",
        "\n",
        "- number of vowels.\n",
        "- number of words\n",
        "- number of times that the word 'ACL' happens in the text.\n",
        "- list of emails. \n",
        "- lists of dates. Please, keep in mind that there are different ways to express a date.\n",
        "- replaces all dates by the label 'DATE'.\n",
        "- list of all universities.\n",
        "- replace all universities by the label 'UNIVERSITY'\n",
        "\n",
        " In order to load the data, we'll need to mount your Drive folder first and give the access to the Notebook. This will require one-step authentication. Please when you run the cell below follow the instructions.\n",
        "\n",
        "Note: the program cannot use libraries such as nltk or spacy. It can only use the **re** library:"
      ]
    },
    {
      "cell_type": "code",
      "metadata": {
        "id": "oc2sVWvR0mvf",
        "colab_type": "code",
        "outputId": "d70a1ce8-2ea9-473b-e3f4-6634372a4014",
        "colab": {
          "base_uri": "https://localhost:8080/",
          "height": 122
        }
      },
      "source": [
        "#first we mount \n",
        "from google.colab import drive\n",
        "drive.mount(\"/content/drive/\")"
      ],
      "execution_count": 0,
      "outputs": [
        {
          "output_type": "stream",
          "text": [
            "Go to this URL in a browser: https://accounts.google.com/o/oauth2/auth?client_id=947318989803-6bn6qk8qdgf4n4g3pfee6491hc0brc4i.apps.googleusercontent.com&redirect_uri=urn%3aietf%3awg%3aoauth%3a2.0%3aoob&response_type=code&scope=email%20https%3a%2f%2fwww.googleapis.com%2fauth%2fdocs.test%20https%3a%2f%2fwww.googleapis.com%2fauth%2fdrive%20https%3a%2f%2fwww.googleapis.com%2fauth%2fdrive.photos.readonly%20https%3a%2f%2fwww.googleapis.com%2fauth%2fpeopleapi.readonly\n",
            "\n",
            "Enter your authorization code:\n",
            "··········\n",
            "Mounted at /content/drive/\n"
          ],
          "name": "stdout"
        }
      ]
    },
    {
      "cell_type": "code",
      "metadata": {
        "id": "9NSKTUu50zbO",
        "colab_type": "code",
        "outputId": "252a1240-024d-4e50-e857-58734acab2dc",
        "colab": {
          "base_uri": "https://localhost:8080/",
          "height": 870
        }
      },
      "source": [
        "sst_home='drive/My Drive/Colab Notebooks/'\n",
        "#replace this folder with the name of your folder in Google Colab, \n",
        "#where you are saving your notebooks of this course\n",
        "sst_home += 'TESI/basicNLP/'\n",
        "\n",
        "filepath= sst_home +'example2.txt'\n",
        "f  = open(filepath, 'r') \n",
        "text=f.read()\n",
        "print(text)\n",
        "print('file loaded')"
      ],
      "execution_count": 0,
      "outputs": [
        {
          "output_type": "stream",
          "text": [
            "The 57th Annual Meeting of the Association for Computational Linguistics (ACL) will take place in Florence (Italy) at the 'Fortezza da Basso' from July 28th to August 2nd, 2019.\n",
            "The program of the conference will include poster sessions, tutorials, workshops, and demonstrations in addition to the main conference.\n",
            "ACL is the premier conference of the field of computational linguistics, covering a broad spectrum of diverse research areas that are concerned with computational approaches to natural language.\n",
            "\n",
            "LATEST NEWS:\n",
            "2018-10-23: The last Joint Call for Workshop Proposals is out\n",
            "2018-10-16: Please help us recruit the best reviewers, area chairs, and invited speakers\n",
            "2018-10-16: The Call for Tutorial Proposals is out\n",
            "2018-10-16: ACL 2019 social media channels are now available\n",
            "2018-10-05: The Call for Papers is out\n",
            "2018-09-04: The Joint Call for Workshop Proposals is out\n",
            "2018-06-12: ACL 2019 Chairs full list is now online\n",
            "2018-02-20: Anna Korhonen and David Traum are appointed ACL 2019 Program Co-Chairs\n",
            "2018-01-08: Professor Lluís Màrquez is appointed ACL 2019 General Chair\n",
            "2017-09-01: ACL 2019 website is online\n",
            "\n",
            "KEY DATES:\n",
            "Deadline for nominating reviewers, area chairs, and invited speakers - October 31, 2018\n",
            "Submission deadline for workshop proposals - November 6, 2018\n",
            "Notification of acceptance for workshops - November 29, 2018\n",
            "Submission deadline for tutorial proposals - January 20, 2019\n",
            "Notification of acceptance for tutorials - February 1, 2019\n",
            "Submission deadline (long & short papers) - March 4, 2019\n",
            "Notification of acceptance - May 13, 2019\n",
            "Camera-ready due - June 3, 2019\n",
            "Tutorials - July 28, 2019\n",
            "Conference - July 29-31, 2019\n",
            "Workshops and Co-located conferences - August 1-2, 2019\n",
            "\n",
            "General Chair\n",
            "Lluís Màrquez (lluismv@amazon.com) - Amazon\n",
            "\n",
            "Program Co-Chairs\n",
            "Anna Korhonen (alk23@cam.ac.uk) - University of Cambridge\n",
            "David Traum (traum@ict.usc.edu) - University of South California\n",
            "\n",
            "Local Organisation Co-Chairs\n",
            "Alessandro Lenci (alessandro.lenci@ling.unipi.it) - University of Pisa\n",
            "Bernardo Magnini (magnini@fbk.eu) - Bruno Kessler Foundation\n",
            "Simonetta Montemagni (simonetta.montemagni@ilc.cnr.it) - CNR-ILC, Pisa\n",
            "\n",
            "Supported by\n",
            "AILC - Italian Association for Computational Linguistics\n",
            "Bruno Kessler Foundation\n",
            "CNR-ILC, Pisa\n",
            "University of Pisa\n",
            "\n",
            "Special thanks to Firenze Convention Bureau & PLS Group (pco company)\n",
            "file loaded\n"
          ],
          "name": "stdout"
        }
      ]
    },
    {
      "cell_type": "markdown",
      "metadata": {
        "id": "9ueLWvEEhnLT",
        "colab_type": "text"
      },
      "source": [
        "First, write your code to count number of vowels, words and 'ACL' in the text:\n"
      ]
    },
    {
      "cell_type": "code",
      "metadata": {
        "id": "VWxyUUzK2Suw",
        "colab_type": "code",
        "outputId": "3f3c57fd-5931-4925-d456-a2ccc046e68e",
        "colab": {
          "base_uri": "https://localhost:8080/",
          "height": 69
        }
      },
      "source": [
        "# write your code to count number of vowels, words and 'ACL' in the text:"
      ],
      "execution_count": 0,
      "outputs": [
        {
          "output_type": "stream",
          "text": [
            "number of vowels: 644\n",
            "number of words: 365\n",
            "number of ACL: 7\n"
          ],
          "name": "stdout"
        }
      ]
    },
    {
      "cell_type": "markdown",
      "metadata": {
        "id": "P78WynAD2XQh",
        "colab_type": "text"
      },
      "source": [
        "Now, detect the emails"
      ]
    },
    {
      "cell_type": "code",
      "metadata": {
        "id": "GVa-3KlA2ahh",
        "colab_type": "code",
        "outputId": "6476e55d-8ab5-4917-e2a5-e3710ee67e1b",
        "colab": {
          "base_uri": "https://localhost:8080/",
          "height": 121
        }
      },
      "source": [
        "#write your code to detect emails"
      ],
      "execution_count": 0,
      "outputs": [
        {
          "output_type": "stream",
          "text": [
            "lluismv@amazon.com\n",
            "alk23@cam.ac.uk\n",
            "traum@ict.usc.edu\n",
            "alessandro.lenci@ling.unipi.it\n",
            "magnini@fbk.eu\n",
            "simonetta.montemagni@ilc.cnr.it\n"
          ],
          "name": "stdout"
        }
      ]
    },
    {
      "cell_type": "markdown",
      "metadata": {
        "id": "Byg8_15m2uq7",
        "colab_type": "text"
      },
      "source": [
        "Now something a little more difficult. You have to obtain the list of all dates in the text. Please, keep in mind that there are several different date formats. Some examples are: '2019-3-14' , 'July 28th', 'August 2nd, 2019', 'February 1, 2019'\n"
      ]
    },
    {
      "cell_type": "code",
      "metadata": {
        "id": "tH9aYm8r200K",
        "colab_type": "code",
        "outputId": "024bccf8-8232-4155-8452-2f65cbb23713",
        "colab": {
          "base_uri": "https://localhost:8080/",
          "height": 364
        }
      },
      "source": [
        "#write your code to detect dates"
      ],
      "execution_count": 0,
      "outputs": [
        {
          "output_type": "stream",
          "text": [
            "2018-10-23\n",
            "2018-10-16\n",
            "2018-10-16\n",
            "2018-10-16\n",
            "2018-10-05\n",
            "2018-09-04\n",
            "2018-06-12\n",
            "2018-02-20\n",
            "2018-01-08\n",
            "2017-09-01\n",
            "October 31, 2018\n",
            "November 6, 2018\n",
            "November 29, 2018\n",
            "January 20, 2019\n",
            "February 1, 2019\n",
            "March 4, 2019\n",
            "May 13, 2019\n",
            "June 3, 2019\n",
            "July 28, 2019\n",
            "August 2nd, 2019\n"
          ],
          "name": "stdout"
        }
      ]
    },
    {
      "cell_type": "markdown",
      "metadata": {
        "id": "XYzJPTPf3An-",
        "colab_type": "text"
      },
      "source": [
        "Please, update your code to detect dates such as \"July 29-31, 2019\"?"
      ]
    },
    {
      "cell_type": "code",
      "metadata": {
        "id": "0WFJxZ6o3AC-",
        "colab_type": "code",
        "outputId": "21fdcdbc-6e92-4b00-a7d5-61dca2525447",
        "colab": {
          "base_uri": "https://localhost:8080/",
          "height": 208
        }
      },
      "source": [
        "#modify your code to detect dates such as \"July 29-31, 2019\"?"
      ],
      "execution_count": 0,
      "outputs": [
        {
          "output_type": "stream",
          "text": [
            "October 31, 2018\n",
            "November 6, 2018\n",
            "November 29, 2018\n",
            "January 20, 2019\n",
            "February 1, 2019\n",
            "March 4, 2019\n",
            "May 13, 2019\n",
            "June 3, 2019\n",
            "July 28, 2019\n",
            "July 29-31, 2019\n",
            "August 1-2, 2019\n"
          ],
          "name": "stdout"
        }
      ]
    },
    {
      "cell_type": "markdown",
      "metadata": {
        "id": "QQkYv0Xq3L_z",
        "colab_type": "text"
      },
      "source": [
        "Finally, we replace all dates by the label ''DATE'. To do this, we will use the **sub** function:"
      ]
    },
    {
      "cell_type": "code",
      "metadata": {
        "id": "4FIq23yd3Lx-",
        "colab_type": "code",
        "outputId": "2215e4a5-8992-4c5c-e1cf-9a6d611a357b",
        "colab": {
          "base_uri": "https://localhost:8080/",
          "height": 869
        }
      },
      "source": [
        "#write your code to replace dates with the labe \"DATE\""
      ],
      "execution_count": 0,
      "outputs": [
        {
          "output_type": "stream",
          "text": [
            "The 57th Annual Meeting of the Association for Computational Linguistics (ACL) will take place in Florence (Italy) at the 'Fortezza da Basso' from July 28th to #DATE#.\n",
            "The program of the conference will include poster sessions, tutorials, workshops, and demonstrations in addition to the main conference.\n",
            "ACL is the premier conference of the field of computational linguistics, covering a broad spectrum of diverse research areas that are concerned with computational approaches to natural language.\n",
            "\n",
            "LATEST NEWS:\n",
            "#DATE#: The last Joint Call for Workshop Proposals is out\n",
            "#DATE#: Please help us recruit the best reviewers, area chairs, and invited speakers\n",
            "#DATE#: The Call for Tutorial Proposals is out\n",
            "#DATE#: ACL 2019 social media channels are now available\n",
            "#DATE#: The Call for Papers is out\n",
            "#DATE#: The Joint Call for Workshop Proposals is out\n",
            "#DATE#: ACL 2019 Chairs full list is now online\n",
            "#DATE#: Anna Korhonen and David Traum are appointed ACL 2019 Program Co-Chairs\n",
            "#DATE#: Professor Lluís Màrquez is appointed ACL 2019 General Chair\n",
            "#DATE#: ACL 2019 website is online\n",
            "\n",
            "KEY DATES:\n",
            "Deadline for nominating reviewers, area chairs, and invited speakers - #DATE#\n",
            "Submission deadline for workshop proposals - #DATE#\n",
            "Notification of acceptance for workshops - #DATE#\n",
            "Submission deadline for tutorial proposals - #DATE#\n",
            "Notification of acceptance for tutorials - #DATE#\n",
            "Submission deadline (long & short papers) - #DATE#\n",
            "Notification of acceptance - #DATE#\n",
            "Camera-ready due - #DATE#\n",
            "Tutorials - #DATE#\n",
            "Conference - #DATE#\n",
            "Workshops and Co-located conferences - #DATE#\n",
            "\n",
            "General Chair\n",
            "Lluís Màrquez (lluismv@amazon.com) - Amazon\n",
            "\n",
            "Program Co-Chairs\n",
            "Anna Korhonen (alk23@cam.ac.uk) - University of Cambridge\n",
            "David Traum (traum@ict.usc.edu) - University of South California\n",
            "\n",
            "Local Organisation Co-Chairs\n",
            "Alessandro Lenci (alessandro.lenci@ling.unipi.it) - University of Pisa\n",
            "Bernardo Magnini (magnini@fbk.eu) - Bruno Kessler Foundation\n",
            "Simonetta Montemagni (simonetta.montemagni@ilc.cnr.it) - CNR-ILC, Pisa\n",
            "\n",
            "Supported by\n",
            "AILC - Italian Association for Computational Linguistics\n",
            "Bruno Kessler Foundation\n",
            "CNR-ILC, Pisa\n",
            "University of Pisa\n",
            "\n",
            "Special thanks to Firenze Convention Bureau & PLS Group (pco company)\n"
          ],
          "name": "stdout"
        }
      ]
    },
    {
      "cell_type": "markdown",
      "metadata": {
        "id": "QxLAuBlS3j6H",
        "colab_type": "text"
      },
      "source": [
        "Now, we have to find all universities in the text. The universities' names usually follow the following pattern 'University of '"
      ]
    },
    {
      "cell_type": "code",
      "metadata": {
        "id": "uEVgVbG23mvB",
        "colab_type": "code",
        "colab": {}
      },
      "source": [
        "#write your code to detect expressions with the pattern 'University of'"
      ],
      "execution_count": 0,
      "outputs": []
    },
    {
      "cell_type": "markdown",
      "metadata": {
        "id": "9DihcpeVe1z8",
        "colab_type": "text"
      },
      "source": [
        "## More exercises\n",
        "\n",
        "1) Write a regular expression to detect IP numbers. Please, test your pattern with different inputs.\n",
        "\n"
      ]
    },
    {
      "cell_type": "code",
      "metadata": {
        "id": "09QIyLMofeFq",
        "colab_type": "code",
        "colab": {}
      },
      "source": [
        "# write your code"
      ],
      "execution_count": 0,
      "outputs": []
    },
    {
      "cell_type": "markdown",
      "metadata": {
        "id": "R3RdQZbMfCWh",
        "colab_type": "text"
      },
      "source": [
        "2) Write a regular expression to detect URL (which should be right).  Please, test your pattern with different inputs.\n",
        "\n",
        "\n"
      ]
    },
    {
      "cell_type": "code",
      "metadata": {
        "id": "rfKJAAU0fB7d",
        "colab_type": "code",
        "colab": {}
      },
      "source": [
        "# write your code"
      ],
      "execution_count": 0,
      "outputs": []
    },
    {
      "cell_type": "markdown",
      "metadata": {
        "id": "M8_gi0Ydf6IY",
        "colab_type": "text"
      },
      "source": [
        "3) Write a regular expression to detect acronyms. Please, test your pattern with different inputs.\n"
      ]
    },
    {
      "cell_type": "code",
      "metadata": {
        "id": "YhOFwKLIf-7h",
        "colab_type": "code",
        "colab": {}
      },
      "source": [
        "# write your code"
      ],
      "execution_count": 0,
      "outputs": []
    },
    {
      "cell_type": "markdown",
      "metadata": {
        "id": "BUjEa_XogBx_",
        "colab_type": "text"
      },
      "source": [
        "4) Write a function that takes a text and returns the list of its tokens that contain at least two or more *`vowels`*."
      ]
    },
    {
      "cell_type": "code",
      "metadata": {
        "id": "GJSI9UwwgAMJ",
        "colab_type": "code",
        "colab": {}
      },
      "source": [
        "# write your code"
      ],
      "execution_count": 0,
      "outputs": []
    },
    {
      "cell_type": "markdown",
      "metadata": {
        "id": "-tb7-vlsgzpB",
        "colab_type": "text"
      },
      "source": [
        "5) Write a function that takes a text and returns the list of its tokens that do not contain the letter 's'."
      ]
    },
    {
      "cell_type": "code",
      "metadata": {
        "id": "jA5338P1gzO1",
        "colab_type": "code",
        "colab": {}
      },
      "source": [
        "# write your code"
      ],
      "execution_count": 0,
      "outputs": []
    },
    {
      "cell_type": "markdown",
      "metadata": {
        "id": "7bwllA59hYti",
        "colab_type": "text"
      },
      "source": [
        "6) Write a function to recognize dosages. Dosages are expressions such as 2.5 mL, 250 mg or 250 mg/5 mL"
      ]
    },
    {
      "cell_type": "code",
      "metadata": {
        "id": "IhWGWv1shYQp",
        "colab_type": "code",
        "colab": {}
      },
      "source": [
        "# write your code"
      ],
      "execution_count": 0,
      "outputs": []
    }
  ]
}