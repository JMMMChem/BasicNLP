{
  "nbformat": 4,
  "nbformat_minor": 0,
  "metadata": {
    "colab": {
      "name": "SpaCy_NLP.ipynb",
      "provenance": [],
      "collapsed_sections": []
    },
    "kernelspec": {
      "name": "python3",
      "display_name": "Python 3"
    }
  },
  "cells": [
    {
      "cell_type": "markdown",
      "metadata": {
        "id": "Ik8s2O5atDBi",
        "colab_type": "text"
      },
      "source": [
        "# Spacy \n",
        "\n",
        " Spacy is a Python library that allows us to perform many NLP tasks such as\n",
        " \n",
        " \n",
        "    - Tokenization\n",
        "    - Pos Tagging\n",
        "    - Entity Detection\n",
        "    - Dependency Parsing\n",
        "    - Semantic Similarity\n",
        "\n",
        " \n",
        " Another important advantages of  Spacy is that it can be used to generated word vectors (word embeddings) for every word in a sentence. Spacy already includes some of these pre-trained models, which you can use right now!!.\n",
        " \n",
        "\n",
        " https://nlpforhackers.io/complete-guide-to-spacy/\n",
        " \n",
        "  \n",
        "## Install spacy\n",
        "First, you must install spacy on your google colab. \n",
        "\n"
      ]
    },
    {
      "cell_type": "code",
      "metadata": {
        "id": "BerEdXs_tbFu",
        "colab_type": "code",
        "outputId": "a11c217a-c3d1-4960-bab6-c1aa80936bf2",
        "colab": {
          "base_uri": "https://localhost:8080/",
          "height": 616
        }
      },
      "source": [
        "  \n",
        "!pip3 install https://github.com/explosion/spacy-models/releases/download/en_core_web_sm-2.0.0/en_core_web_sm-2.0.0.tar.gz\n"
      ],
      "execution_count": 48,
      "outputs": [
        {
          "output_type": "stream",
          "text": [
            "Collecting https://github.com/explosion/spacy-models/releases/download/en_core_web_sm-2.0.0/en_core_web_sm-2.0.0.tar.gz\n",
            "\u001b[?25l  Downloading https://github.com/explosion/spacy-models/releases/download/en_core_web_sm-2.0.0/en_core_web_sm-2.0.0.tar.gz (37.4MB)\n",
            "\u001b[K     |████████████████████████████████| 37.4MB 113kB/s \n",
            "\u001b[?25hRequirement already satisfied: spacy>=2.0.0a18 in /usr/local/lib/python3.6/dist-packages (from en-core-web-sm==2.0.0) (2.1.9)\n",
            "Requirement already satisfied: murmurhash<1.1.0,>=0.28.0 in /usr/local/lib/python3.6/dist-packages (from spacy>=2.0.0a18->en-core-web-sm==2.0.0) (1.0.2)\n",
            "Requirement already satisfied: preshed<2.1.0,>=2.0.1 in /usr/local/lib/python3.6/dist-packages (from spacy>=2.0.0a18->en-core-web-sm==2.0.0) (2.0.1)\n",
            "Requirement already satisfied: plac<1.0.0,>=0.9.6 in /usr/local/lib/python3.6/dist-packages (from spacy>=2.0.0a18->en-core-web-sm==2.0.0) (0.9.6)\n",
            "Requirement already satisfied: requests<3.0.0,>=2.13.0 in /usr/local/lib/python3.6/dist-packages (from spacy>=2.0.0a18->en-core-web-sm==2.0.0) (2.21.0)\n",
            "Requirement already satisfied: wasabi<1.1.0,>=0.2.0 in /usr/local/lib/python3.6/dist-packages (from spacy>=2.0.0a18->en-core-web-sm==2.0.0) (0.6.0)\n",
            "Requirement already satisfied: blis<0.3.0,>=0.2.2 in /usr/local/lib/python3.6/dist-packages (from spacy>=2.0.0a18->en-core-web-sm==2.0.0) (0.2.4)\n",
            "Requirement already satisfied: numpy>=1.15.0 in /usr/local/lib/python3.6/dist-packages (from spacy>=2.0.0a18->en-core-web-sm==2.0.0) (1.17.5)\n",
            "Requirement already satisfied: thinc<7.1.0,>=7.0.8 in /usr/local/lib/python3.6/dist-packages (from spacy>=2.0.0a18->en-core-web-sm==2.0.0) (7.0.8)\n",
            "Requirement already satisfied: cymem<2.1.0,>=2.0.2 in /usr/local/lib/python3.6/dist-packages (from spacy>=2.0.0a18->en-core-web-sm==2.0.0) (2.0.3)\n",
            "Requirement already satisfied: srsly<1.1.0,>=0.0.6 in /usr/local/lib/python3.6/dist-packages (from spacy>=2.0.0a18->en-core-web-sm==2.0.0) (1.0.1)\n",
            "Requirement already satisfied: idna<2.9,>=2.5 in /usr/local/lib/python3.6/dist-packages (from requests<3.0.0,>=2.13.0->spacy>=2.0.0a18->en-core-web-sm==2.0.0) (2.8)\n",
            "Requirement already satisfied: chardet<3.1.0,>=3.0.2 in /usr/local/lib/python3.6/dist-packages (from requests<3.0.0,>=2.13.0->spacy>=2.0.0a18->en-core-web-sm==2.0.0) (3.0.4)\n",
            "Requirement already satisfied: certifi>=2017.4.17 in /usr/local/lib/python3.6/dist-packages (from requests<3.0.0,>=2.13.0->spacy>=2.0.0a18->en-core-web-sm==2.0.0) (2019.11.28)\n",
            "Requirement already satisfied: urllib3<1.25,>=1.21.1 in /usr/local/lib/python3.6/dist-packages (from requests<3.0.0,>=2.13.0->spacy>=2.0.0a18->en-core-web-sm==2.0.0) (1.24.3)\n",
            "Requirement already satisfied: tqdm<5.0.0,>=4.10.0 in /usr/local/lib/python3.6/dist-packages (from thinc<7.1.0,>=7.0.8->spacy>=2.0.0a18->en-core-web-sm==2.0.0) (4.28.1)\n",
            "Building wheels for collected packages: en-core-web-sm\n",
            "  Building wheel for en-core-web-sm (setup.py) ... \u001b[?25l\u001b[?25hdone\n",
            "  Created wheel for en-core-web-sm: filename=en_core_web_sm-2.0.0-cp36-none-any.whl size=37405977 sha256=79e38cdba87edf1e2275902e18198f39dddf0981fdeb80b77439b316d375e4e1\n",
            "  Stored in directory: /root/.cache/pip/wheels/54/7c/d8/f86364af8fbba7258e14adae115f18dd2c91552406edc3fdaa\n",
            "Successfully built en-core-web-sm\n",
            "Installing collected packages: en-core-web-sm\n",
            "  Found existing installation: en-core-web-sm 2.1.0\n",
            "    Uninstalling en-core-web-sm-2.1.0:\n",
            "      Successfully uninstalled en-core-web-sm-2.1.0\n",
            "Successfully installed en-core-web-sm-2.0.0\n"
          ],
          "name": "stdout"
        },
        {
          "output_type": "display_data",
          "data": {
            "application/vnd.colab-display-data+json": {
              "pip_warning": {
                "packages": [
                  "en_core_web_sm"
                ]
              }
            }
          },
          "metadata": {
            "tags": []
          }
        }
      ]
    },
    {
      "cell_type": "markdown",
      "metadata": {
        "id": "rsfppRaoFZqo",
        "colab_type": "text"
      },
      "source": [
        "Once you have installed Spacy, you need to download some of models that Spacy provides. \n",
        "\n",
        " You can find the list of available models at https://spacy.io/usage/models\n",
        " \n",
        " In this tutorial, we will use the model **en_core_web_md**, which includes Vocabulary, POS tags, dependency parse, named entities. and word vectors (for obtaining semantic similarity)\n",
        "\n",
        "\n",
        "For English, you may download the model \"en\". Then, you can load the model 'en'"
      ]
    },
    {
      "cell_type": "code",
      "metadata": {
        "id": "eNxLBZ7tuWGa",
        "colab_type": "code",
        "outputId": "75312418-b957-4178-a9d6-94dae16573a1",
        "colab": {
          "base_uri": "https://localhost:8080/",
          "height": 309
        }
      },
      "source": [
        "!python3 -m spacy download en_core_web_sm\n",
        "\n",
        "import spacy\n",
        "nlp = spacy.load('en_core_web_sm')           # load model package \"en_core_web_sm\"\n",
        "print('spacy.en loaded')"
      ],
      "execution_count": 0,
      "outputs": [
        {
          "output_type": "stream",
          "text": [
            "Collecting en_core_web_sm==2.1.0\n",
            "\u001b[?25l  Downloading https://github.com/explosion/spacy-models/releases/download/en_core_web_sm-2.1.0/en_core_web_sm-2.1.0.tar.gz (11.1MB)\n",
            "\u001b[K     |████████████████████████████████| 11.1MB 4.0MB/s \n",
            "\u001b[?25hBuilding wheels for collected packages: en-core-web-sm\n",
            "  Building wheel for en-core-web-sm (setup.py) ... \u001b[?25l\u001b[?25hdone\n",
            "  Created wheel for en-core-web-sm: filename=en_core_web_sm-2.1.0-cp36-none-any.whl size=11074435 sha256=dc447bb5de8dc9b63c7f3893783715e5d210d38a749cc886ea031b0d507cc596\n",
            "  Stored in directory: /tmp/pip-ephem-wheel-cache-5pq63xn9/wheels/39/ea/3b/507f7df78be8631a7a3d7090962194cf55bc1158572c0be77f\n",
            "Successfully built en-core-web-sm\n",
            "Installing collected packages: en-core-web-sm\n",
            "  Found existing installation: en-core-web-sm 2.0.0\n",
            "    Uninstalling en-core-web-sm-2.0.0:\n",
            "      Successfully uninstalled en-core-web-sm-2.0.0\n",
            "Successfully installed en-core-web-sm-2.1.0\n",
            "\u001b[38;5;2m✔ Download and installation successful\u001b[0m\n",
            "You can now load the model via spacy.load('en_core_web_sm')\n",
            "spacy.en loaded\n"
          ],
          "name": "stdout"
        }
      ]
    },
    {
      "cell_type": "markdown",
      "metadata": {
        "id": "Dcerk_Ced0gI",
        "colab_type": "text"
      },
      "source": [
        "\n",
        "## Mounting your drive folder\n",
        "\n",
        "Now, we will learn how to load text documents. In order to load the data, we'll need to mount your Drive folder first and give the access to the Notebook. This will require one-step authentication. Please when you run the cell below follow the instructions.\n",
        "\n",
        "\n"
      ]
    },
    {
      "cell_type": "code",
      "metadata": {
        "id": "91FwmlmekVmC",
        "colab_type": "code",
        "outputId": "08eb9109-05ff-4667-c320-578a2edf5838",
        "colab": {
          "base_uri": "https://localhost:8080/",
          "height": 51
        }
      },
      "source": [
        "from google.colab import drive\n",
        "drive.mount(\"/content/drive/\")\n",
        "!ls"
      ],
      "execution_count": 0,
      "outputs": [
        {
          "output_type": "stream",
          "text": [
            "Drive already mounted at /content/drive/; to attempt to forcibly remount, call drive.mount(\"/content/drive/\", force_remount=True).\n",
            "drive  sample_data\n"
          ],
          "name": "stdout"
        }
      ]
    },
    {
      "cell_type": "markdown",
      "metadata": {
        "id": "NwORNI-doapx",
        "colab_type": "text"
      },
      "source": [
        " Now, we can load a text file:\n"
      ]
    },
    {
      "cell_type": "code",
      "metadata": {
        "id": "vzfLurKMdzT0",
        "colab_type": "code",
        "outputId": "18bf56a1-b772-408c-98c3-7d0844b9d965",
        "colab": {
          "base_uri": "https://localhost:8080/",
          "height": 88
        }
      },
      "source": [
        "sst_home='drive/My Drive/Colab Notebooks/'\n",
        "#replace this folder with the name of your folder in Google Colab, \n",
        "#where you are saving your notebooks of this course\n",
        "sst_home += 'CURSONLP/1-basicNLP/'\n",
        "\n",
        "filename = sst_home + 'example1.txt'\n",
        "\n",
        "text = open(filename).read()\n",
        "\n",
        "print(text)"
      ],
      "execution_count": 0,
      "outputs": [
        {
          "output_type": "stream",
          "text": [
            "Pedro Sánchez Pérez-Castejón (born 29 February 1972) is a Spanish politician serving as Prime Minister of Spain since 2 June 2018. On 7 January 2020, Pedro Sanchez was confirmed by the Congress of Deputies as Prime Minister with a lead of just two votes (167 to 165), at the helm of the first coalition government since the restoration of democracy in the 1970s, ending the political deadlock that included two inconclusive elections.He has also been Secretary-General of the Spanish Socialist Workers' Party (PSOE) since June 2017, having previously held that office from 2014 to 2016.\n",
            "He served as a Madrid city councillor from 2004 to 2009, before being elected to the Congress of Deputies. In 2014, he became Secretary-General of the PSOE, becoming the party's candidate for Prime Minister in the 2015 and 2016 general elections. Sánchez resigned as Secretary-General after disagreements with the party's executive, and was re-elected the following year during a series of primaries, defeating Susana Díaz and Patxi López.\n",
            "On 31 May 2018, the PSOE filed a no confidence motion in the Rajoy II Government in the Congress of Deputies, which was passed the following day with the support of Unidas Podemos and the leader of the party Pablo Iglesias, as well as various regionalist and nationalist parties. Sánchez was subsequently sworn in as Prime Minister of Spain by Felipe VI on 2 June. He led his party to gain 38 seats in the April 2019 general election, the PSOE's first national victory since 2008, a victory re-validated at the subsequent November 2019 general election.\n"
          ],
          "name": "stdout"
        }
      ]
    },
    {
      "cell_type": "markdown",
      "metadata": {
        "id": "WzsYeOe9dMug",
        "colab_type": "text"
      },
      "source": [
        "\n",
        "## Sentence splitting\n",
        "\n",
        "Spacy also returns the list of sentences in the text. The list of sentences is stored in the property **sents**. For each sentence, you can traverse its tokens and read their properties. \n",
        "\n",
        "In the following cell, for each token in a sentence, we show token and its PoS tag :\n"
      ]
    },
    {
      "cell_type": "code",
      "metadata": {
        "id": "rOVAf2h9sq0P",
        "colab_type": "code",
        "outputId": "2f4a26f0-ff7c-44c7-d0c2-3f3ef82a76c0",
        "colab": {
          "base_uri": "https://localhost:8080/",
          "height": 224
        }
      },
      "source": [
        "document = nlp(text)\n",
        "\n",
        "for i,s in enumerate(document.sents):\n",
        "    print(i,s)\n",
        "    #for token in s:\n",
        "    #  print('\\t',token.orth_, token.pos_)\n"
      ],
      "execution_count": 0,
      "outputs": [
        {
          "output_type": "stream",
          "text": [
            "0 Pedro Sánchez Pérez-Castejón (born 29 February 1972) is a Spanish politician serving as Prime Minister of Spain since 2 June 2018.\n",
            "1 On 7 January 2020, Pedro Sanchez was confirmed by the Congress of Deputies as Prime Minister with a lead of just two votes (167 to 165), at the helm of the first coalition government since the restoration of democracy in the 1970s, ending the political deadlock that included two inconclusive elections.\n",
            "2 He has also been Secretary-General of the Spanish Socialist Workers' Party (PSOE) since June 2017, having previously held that office from 2014 to 2016.\n",
            "\n",
            "3 He served as a Madrid city councillor from 2004 to 2009, before being elected to the Congress of Deputies.\n",
            "4 In 2014, he became Secretary-General of the PSOE, becoming the party's candidate for Prime Minister in the 2015 and 2016 general elections.\n",
            "5 Sánchez resigned as Secretary-General after disagreements with the party's executive, and was re-elected the following year during a series of primaries, defeating Susana Díaz and Patxi López.\n",
            "\n",
            "6 On 31 May 2018, the PSOE filed a no confidence motion in the Rajoy II Government in the Congress of Deputies, which was passed the following day with the support of Unidas Podemos and the leader of the party Pablo Iglesias, as well as various regionalist and nationalist parties.\n",
            "7 Sánchez was subsequently sworn in as Prime Minister of Spain by Felipe VI on 2 June.\n",
            "8 He led his party to gain 38 seats in the April 2019 general election, the PSOE's first national victory since 2008, a victory re-validated at the subsequent November 2019 general election.\n"
          ],
          "name": "stdout"
        }
      ]
    },
    {
      "cell_type": "markdown",
      "metadata": {
        "id": "E2owzCAJFhBH",
        "colab_type": "text"
      },
      "source": [
        "## Tokenization \n",
        "\n",
        "Once you have loaded a document, you can parser it using the Spaci. You only have to pass the document as argument to the object **nlp**, which was created above. This return a list of objects, which represent the tokens of the text and their properties. These properties are very useful in the representation of instances for NLP tasks such as Named Entity Recognition or Text Clasification. \n",
        "\n",
        "In the next cell, we iterate the tokens and show some of their properties :\n",
        "-    original text\n",
        "-    shape (which is a pattern of its uppercase and lowercase)\n",
        "-  PoS tag\n",
        "-   lemma of token\n",
        "-    prefix\n",
        "-    sufix\n",
        "-    Brown cluster id: cluster which the token belongs\n",
        "\n",
        "You can find the description of the token properties at the following link: https://spacy.io/api/token#attributes"
      ]
    },
    {
      "cell_type": "code",
      "metadata": {
        "id": "o8xqE1DQmqM5",
        "colab_type": "code",
        "outputId": "7e803a50-20af-45a7-a02c-3520227e2d3f",
        "colab": {
          "base_uri": "https://localhost:8080/",
          "height": 1000
        }
      },
      "source": [
        "\n",
        "for i, token in enumerate(document):\n",
        "    print(\"original:\", token.orth_)\n",
        "    print(\"shape:\", token.shape_)\n",
        "    print(\"PoS tag:\", token.pos_)\n",
        "\n",
        "\n",
        "    #print(\"lowercased:\", token.lower_)\n",
        "    print(\"lemma:\", token.lemma_)\n",
        "    print(\"prefix:\", token.prefix_)\n",
        "    print(\"suffix:\", token.suffix_)\n",
        "    print(\"Brown cluster id:\", token.cluster)\n",
        "    print(\"----------------------------------------\")\n",
        "    #only shows 5 tokens\n",
        "    if i > 10:\n",
        "        break"
      ],
      "execution_count": 0,
      "outputs": [
        {
          "output_type": "stream",
          "text": [
            "original: Pedro\n",
            "shape: Xxxxx\n",
            "PoS tag: PROPN\n",
            "lemma: Pedro\n",
            "prefix: P\n",
            "suffix: dro\n",
            "Brown cluster id: 0\n",
            "----------------------------------------\n",
            "original: Sánchez\n",
            "shape: Xxxxx\n",
            "PoS tag: PROPN\n",
            "lemma: Sánchez\n",
            "prefix: S\n",
            "suffix: hez\n",
            "Brown cluster id: 0\n",
            "----------------------------------------\n",
            "original: Pérez\n",
            "shape: Xxxxx\n",
            "PoS tag: PROPN\n",
            "lemma: Pérez\n",
            "prefix: P\n",
            "suffix: rez\n",
            "Brown cluster id: 0\n",
            "----------------------------------------\n",
            "original: -\n",
            "shape: -\n",
            "PoS tag: PUNCT\n",
            "lemma: -\n",
            "prefix: -\n",
            "suffix: -\n",
            "Brown cluster id: 0\n",
            "----------------------------------------\n",
            "original: Castejón\n",
            "shape: Xxxxx\n",
            "PoS tag: PROPN\n",
            "lemma: Castejón\n",
            "prefix: C\n",
            "suffix: jón\n",
            "Brown cluster id: 0\n",
            "----------------------------------------\n",
            "original: (\n",
            "shape: (\n",
            "PoS tag: PUNCT\n",
            "lemma: (\n",
            "prefix: (\n",
            "suffix: (\n",
            "Brown cluster id: 0\n",
            "----------------------------------------\n",
            "original: born\n",
            "shape: xxxx\n",
            "PoS tag: VERB\n",
            "lemma: bear\n",
            "prefix: b\n",
            "suffix: orn\n",
            "Brown cluster id: 0\n",
            "----------------------------------------\n",
            "original: 29\n",
            "shape: dd\n",
            "PoS tag: NUM\n",
            "lemma: 29\n",
            "prefix: 2\n",
            "suffix: 29\n",
            "Brown cluster id: 0\n",
            "----------------------------------------\n",
            "original: February\n",
            "shape: Xxxxx\n",
            "PoS tag: PROPN\n",
            "lemma: February\n",
            "prefix: F\n",
            "suffix: ary\n",
            "Brown cluster id: 0\n",
            "----------------------------------------\n",
            "original: 1972\n",
            "shape: dddd\n",
            "PoS tag: NUM\n",
            "lemma: 1972\n",
            "prefix: 1\n",
            "suffix: 972\n",
            "Brown cluster id: 0\n",
            "----------------------------------------\n",
            "original: )\n",
            "shape: )\n",
            "PoS tag: PUNCT\n",
            "lemma: )\n",
            "prefix: )\n",
            "suffix: )\n",
            "Brown cluster id: 0\n",
            "----------------------------------------\n",
            "original: is\n",
            "shape: xx\n",
            "PoS tag: VERB\n",
            "lemma: be\n",
            "prefix: i\n",
            "suffix: is\n",
            "Brown cluster id: 0\n",
            "----------------------------------------\n"
          ],
          "name": "stdout"
        }
      ]
    },
    {
      "cell_type": "markdown",
      "metadata": {
        "id": "p6rGBImGokLb",
        "colab_type": "text"
      },
      "source": [
        "## Entity Detection\n",
        "Spacy is also able to identify the named entities that occur in the text. The named entities contained in the document are stored in its property **ents**: \n",
        "For each entity, you can acces the following properties:\n",
        "- string: contains the whole mention of the named entity.\n",
        "- label: is the entity type.\n",
        "- start_char and end_char are the offsets of the mention in the text.\n",
        "\n",
        "\n",
        "\n",
        "\n"
      ]
    },
    {
      "cell_type": "code",
      "metadata": {
        "id": "o-GRY0DPsq0h",
        "colab_type": "code",
        "outputId": "daae5a34-0873-4407-db2d-fbb226da861c",
        "colab": {
          "base_uri": "https://localhost:8080/",
          "height": 1000
        }
      },
      "source": [
        "for i,s in enumerate(document.sents):\n",
        "  print(\"Text sentence: \", i, s)\n",
        "  print('Named entities for the sentence: ', i)\n",
        "  for e in s.ents:\n",
        "    print('\\t',e.string,e.label_,e.start_char, e.end_char)\n",
        "  print\n",
        "\n",
        "#for w in document.ents:\n",
        "#  print(w.string,w.label_)\n",
        "  \n",
        "  \n"
      ],
      "execution_count": 0,
      "outputs": [
        {
          "output_type": "stream",
          "text": [
            "Text sentence:  0 Pedro Sánchez Pérez-Castejón (born 29 February 1972) is a Spanish politician serving as Prime Minister of Spain since 2 June 2018.\n",
            "Named entities for the sentence:  0\n",
            "\t Pedro Sánchez  PERSON 0 13\n",
            "\t February 1972 DATE 38 51\n",
            "\t Spanish  NORP 58 65\n",
            "\t Spain  GPE 106 111\n",
            "\t 2 June 2018 DATE 118 129\n",
            "Text sentence:  1 On 7 January 2020, Pedro Sanchez was confirmed by the Congress of Deputies as Prime Minister with a lead of just two votes (167 to 165), at the helm of the first coalition government since the restoration of democracy in the 1970s, ending the political deadlock that included two inconclusive elections.\n",
            "Named entities for the sentence:  1\n",
            "\t 7 January 2020 DATE 134 148\n",
            "\t Pedro Sanchez  PERSON 150 163\n",
            "\t the Congress of Deputies  ORG 181 205\n",
            "\t two  CARDINAL 244 247\n",
            "\t 167  CARDINAL 255 258\n",
            "\t 165 CARDINAL 262 265\n",
            "\t first  ORDINAL 287 292\n",
            "\t the 1970s DATE 352 361\n",
            "\t two  CARDINAL 407 410\n",
            "Text sentence:  2 He has also been Secretary-General of the Spanish Socialist Workers' Party (PSOE) since June 2017, having previously held that office from 2014 to 2016.\n",
            "\n",
            "Named entities for the sentence:  2\n",
            "\t the Spanish Socialist Workers' Party  ORG 472 508\n",
            "\t June 2017 DATE 522 531\n",
            "\t 2014  DATE 573 577\n",
            "\t 2016 DATE 581 585\n",
            "Text sentence:  3 He served as a Madrid city councillor from 2004 to 2009, before being elected to the Congress of Deputies.\n",
            "Named entities for the sentence:  3\n",
            "\t Madrid  GPE 602 608\n",
            "\t 2004  DATE 630 634\n",
            "\t 2009 DATE 638 642\n",
            "\t the Congress of Deputies ORG 668 692\n",
            "Text sentence:  4 In 2014, he became Secretary-General of the PSOE, becoming the party's candidate for Prime Minister in the 2015 and 2016 general elections.\n",
            "Named entities for the sentence:  4\n",
            "\t 2014 DATE 697 701\n",
            "\t PSOE ORG 738 742\n",
            "\t 2015  DATE 801 805\n",
            "\t 2016  DATE 810 814\n",
            "Text sentence:  5 Sánchez resigned as Secretary-General after disagreements with the party's executive, and was re-elected the following year during a series of primaries, defeating Susana Díaz and Patxi López.\n",
            "\n",
            "Named entities for the sentence:  5\n",
            "\t Sánchez  ORG 834 841\n",
            "\t the following year  DATE 939 957\n",
            "\t Susana Díaz  PERSON 998 1009\n",
            "\t Patxi López PERSON 1014 1025\n",
            "Text sentence:  6 On 31 May 2018, the PSOE filed a no confidence motion in the Rajoy II Government in the Congress of Deputies, which was passed the following day with the support of Unidas Podemos and the leader of the party Pablo Iglesias, as well as various regionalist and nationalist parties.\n",
            "Named entities for the sentence:  6\n",
            "\t 31 May 2018 DATE 1030 1041\n",
            "\t PSOE  ORG 1047 1051\n",
            "\t the Rajoy II Government  ORG 1084 1107\n",
            "\t the Congress of Deputies ORG 1111 1135\n",
            "\t Unidas Podemos  ORG 1192 1206\n",
            "\t Pablo Iglesias ORG 1235 1249\n",
            "Text sentence:  7 Sánchez was subsequently sworn in as Prime Minister of Spain by Felipe VI on 2 June.\n",
            "Named entities for the sentence:  7\n",
            "\t Sánchez  ORG 1307 1314\n",
            "\t Spain  GPE 1362 1367\n",
            "\t Felipe VI  ORG 1371 1380\n",
            "\t 2 June DATE 1384 1390\n",
            "Text sentence:  8 He led his party to gain 38 seats in the April 2019 general election, the PSOE's first national victory since 2008, a victory re-validated at the subsequent November 2019 general election.\n",
            "Named entities for the sentence:  8\n",
            "\t 38  CARDINAL 1417 1419\n",
            "\t April 2019  DATE 1433 1443\n",
            "\t PSOE ORG 1466 1470\n",
            "\t first  ORDINAL 1473 1478\n",
            "\t 2008 DATE 1502 1506\n",
            "\t November 2019  DATE 1549 1562\n"
          ],
          "name": "stdout"
        }
      ]
    },
    {
      "cell_type": "markdown",
      "metadata": {
        "id": "ZXRjw1Puu14a",
        "colab_type": "text"
      },
      "source": [
        "## Noun chunker\n",
        "\n",
        "You can obtain the list of noun phrases in a sentence directly using the property **noun_chunks**. \n",
        "\n",
        "For each noun phrase, it is possible to return the following properties:\n",
        "- text: the whole text of the noun phrase\n",
        "- root: the root of the noun phrase\n",
        "- dep: the grammatical relationship of the noun phrase in in the sentence. You can find more information about these relationships (dependencies) at https://nlp.stanford.edu/software/dependencies_manual.pdf. Some of these dependencies are:\n",
        " - *nsubj*: it is the syntactic subject. For example, 'Clinton defeated Dole', nsubj(defeated,Clinton)\n",
        " - *dobj*:  it is the direct object of a VP. For example,  'She gave me a raise' - > dobj (gave, raise).\n",
        " - *pobj*: it is the object of a preposition  (for example, 'I sit on the chair' -> pobj(on, chair)\n",
        "- head: it represent the source of the grammatical relationship. For example, the relationship nsubj between shift and Autonomus cars.  \n",
        " \n",
        "\n",
        " \n",
        " \n",
        "\n",
        " \n",
        " \n",
        "\n",
        "\n"
      ]
    },
    {
      "cell_type": "code",
      "metadata": {
        "id": "vVXpQ512u61y",
        "colab_type": "code",
        "outputId": "3e7e46be-a877-4a08-d900-b83fb250b759",
        "colab": {
          "base_uri": "https://localhost:8080/",
          "height": 272
        }
      },
      "source": [
        "import spacy\n",
        "text= \"The boy with the spotted dog quickly ran after the firetruck.\"\n",
        "#text= \"I saw the keys on the table.\"\n",
        "doc = nlp(text)\n",
        "\n",
        "for chunk in doc.noun_chunks:\n",
        "    print('text chunk:',chunk.text)\n",
        "    print('root chunk:',chunk.root.text)\n",
        "    print('grammatical dependency:',chunk.root.dep_)\n",
        "    print('head chunk:',chunk.root.head.text)\n",
        "    print('---------------------------------')\n",
        "    "
      ],
      "execution_count": 0,
      "outputs": [
        {
          "output_type": "stream",
          "text": [
            "text chunk: The boy\n",
            "root chunk: boy\n",
            "grammatical dependency: nsubj\n",
            "head chunk: ran\n",
            "---------------------------------\n",
            "text chunk: the spotted dog\n",
            "root chunk: dog\n",
            "grammatical dependency: pobj\n",
            "head chunk: with\n",
            "---------------------------------\n",
            "text chunk: the firetruck\n",
            "root chunk: firetruck\n",
            "grammatical dependency: pobj\n",
            "head chunk: after\n",
            "---------------------------------\n"
          ],
          "name": "stdout"
        }
      ]
    },
    {
      "cell_type": "markdown",
      "metadata": {
        "id": "ul1i-WequN3M",
        "colab_type": "text"
      },
      "source": [
        "\n",
        "\n",
        "\n",
        "## Dependency parsing\n",
        "\n",
        "SpaCy provides a fast and accurate syntactic dependency parser. This parser obtains the grammatical relations between tokens in a sentence. This information is crucial for NLP task such as relation extraction. \n",
        "\n",
        "You can try to parse any sentence using  the online tool http://nlp.stanford.edu:8080/corenlp/process\n",
        "\n",
        "\n",
        "The following cell shows the dependency parsing for a sentence. For each token, you can determine \n"
      ]
    },
    {
      "cell_type": "code",
      "metadata": {
        "id": "W9SgTwGQsq0a",
        "colab_type": "code",
        "outputId": "08d1b90e-4a72-41df-be35-56aad8dba468",
        "colab": {
          "base_uri": "https://localhost:8080/",
          "height": 833
        }
      },
      "source": [
        "# Let's look at the dependencies of this example:\n",
        "example = \"The boy with the spotted dog quickly ran after the firetruck.\"\n",
        "#example=\"I saw the keys on the table.\"\n",
        "parsedEx = nlp(example)\n",
        "# shown as: original token, dependency tag, head word\n",
        "for token in parsedEx:\n",
        "    print(\"word:\",token.orth_)\n",
        "    print(\"grammatical relation:\", token.dep_)\n",
        "    print(\"connected word (head):\", token.head.orth_)\n",
        "    print('------------------------------------------')"
      ],
      "execution_count": 0,
      "outputs": [
        {
          "output_type": "stream",
          "text": [
            "word: The\n",
            "grammatical relation: det\n",
            "connected word (head): boy\n",
            "------------------------------------------\n",
            "word: boy\n",
            "grammatical relation: nsubj\n",
            "connected word (head): ran\n",
            "------------------------------------------\n",
            "word: with\n",
            "grammatical relation: prep\n",
            "connected word (head): boy\n",
            "------------------------------------------\n",
            "word: the\n",
            "grammatical relation: det\n",
            "connected word (head): dog\n",
            "------------------------------------------\n",
            "word: spotted\n",
            "grammatical relation: amod\n",
            "connected word (head): dog\n",
            "------------------------------------------\n",
            "word: dog\n",
            "grammatical relation: pobj\n",
            "connected word (head): with\n",
            "------------------------------------------\n",
            "word: quickly\n",
            "grammatical relation: advmod\n",
            "connected word (head): ran\n",
            "------------------------------------------\n",
            "word: ran\n",
            "grammatical relation: ROOT\n",
            "connected word (head): ran\n",
            "------------------------------------------\n",
            "word: after\n",
            "grammatical relation: prep\n",
            "connected word (head): ran\n",
            "------------------------------------------\n",
            "word: the\n",
            "grammatical relation: det\n",
            "connected word (head): firetruck\n",
            "------------------------------------------\n",
            "word: firetruck\n",
            "grammatical relation: pobj\n",
            "connected word (head): after\n",
            "------------------------------------------\n",
            "word: .\n",
            "grammatical relation: punct\n",
            "connected word (head): ran\n",
            "------------------------------------------\n"
          ],
          "name": "stdout"
        }
      ]
    }
  ]
}