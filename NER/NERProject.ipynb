{
  "nbformat": 4,
  "nbformat_minor": 0,
  "metadata": {
    "colab": {
      "name": "NERProject.ipynb",
      "provenance": [],
      "authorship_tag": "ABX9TyPd78yGP1FJBKy5a65D9s7G",
      "include_colab_link": true
    },
    "kernelspec": {
      "name": "python3",
      "display_name": "Python 3"
    }
  },
  "cells": [
    {
      "cell_type": "markdown",
      "metadata": {
        "id": "view-in-github",
        "colab_type": "text"
      },
      "source": [
        "<a href=\"https://colab.research.google.com/github/isegura/BasicNLP/blob/master/NERProject.ipynb\" target=\"_parent\"><img src=\"https://colab.research.google.com/assets/colab-badge.svg\" alt=\"Open In Colab\"/></a>"
      ]
    },
    {
      "cell_type": "markdown",
      "metadata": {
        "id": "Em0gbcU_s3EU",
        "colab_type": "text"
      },
      "source": [
        "# Project: Develop a NER system to detect drug names \n",
        "\n",
        "The recognition of chemical entities is  crucial for some  text processing tasks such as detection of drug-protein interactions, adverse effects of chemical compounds and their associations to toxicological endpoints or the extraction of pathway and metabolic reaction relations, among others.\n",
        "\n",
        "The goal of this project is to develop a NER system based on machine learning to detect chemical entities from texts. \n",
        "\n",
        "To do this, we will use the CHEMDNER dataset (which you can download from aulaglobal). This dataset already provides two different subsets: a training dataset and a test dataset. \n",
        "\n",
        "Your project should address the following tasks:\n",
        "\n",
        "1. Load the datasets and apply some basic preprocessing techniques (such as sentence splitting, tokenization and PoS tagging). \n",
        "\n",
        "2. Translate the dataset into the IOB format (https://en.wikipedia.org/wiki/Inside–outside–beginning_(tagging)).\n",
        "\n",
        "3. Add  features to represent each token. You can find some ideas about useful features for NER in: \n",
        "https://jcheminf.biomedcentral.com/articles/10.1186/1758-2946-7-S1-S4\n",
        "https://www.aclweb.org/anthology/W15-2608.pdf\n",
        "\n",
        "4. Finally, you should train a machine learning classifier (for example, a CRF).\n",
        "\n",
        "5. Test the model on the test dataset. Report metrics precision, recall and f-measure.\n",
        "\n"
      ]
    },
    {
      "cell_type": "code",
      "metadata": {
        "id": "bvx_L6yis1tw",
        "colab_type": "code",
        "colab": {}
      },
      "source": [
        ""
      ],
      "execution_count": 0,
      "outputs": []
    }
  ]
}
