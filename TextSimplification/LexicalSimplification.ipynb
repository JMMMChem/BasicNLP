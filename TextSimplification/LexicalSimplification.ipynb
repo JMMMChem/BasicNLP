{
  "nbformat": 4,
  "nbformat_minor": 0,
  "metadata": {
    "colab": {
      "name": "LexicalSimplification.ipynb",
      "provenance": [],
      "collapsed_sections": [],
      "include_colab_link": true
    },
    "kernelspec": {
      "display_name": "Python 2",
      "language": "python",
      "name": "python2"
    }
  },
  "cells": [
    {
      "cell_type": "markdown",
      "metadata": {
        "id": "view-in-github",
        "colab_type": "text"
      },
      "source": [
        "<a href=\"https://colab.research.google.com/github/isegura/TextSimplification/blob/master/LexicalSimplification.ipynb\" target=\"_parent\"><img src=\"https://colab.research.google.com/assets/colab-badge.svg\" alt=\"Open In Colab\"/></a>"
      ]
    },
    {
      "cell_type": "markdown",
      "metadata": {
        "id": "huBjE859tet1",
        "colab_type": "text"
      },
      "source": [
        "# Lexical simplification\n",
        "\n",
        "Lexical Simplification is the task of replacing individual words of a text with words that are easier to understand, so that the text as a whole becomes easier to comprehend, e.g. by people with learning disabilities or by children who learn to read.\n",
        "\n",
        "The most basic approach is to use a dictionary containing synonyms. For example, WordNet (https://wordnet.princeton.edu/), a lexical database of semantic relations between words in more than 200 languages,  links words into semantic relations including synonyms, hyponyms, and meronyms. The synonyms are grouped into synsets with short definitions and usage examples. \n",
        "\n",
        "\n",
        "\n",
        "\n",
        "\n"
      ]
    },
    {
      "cell_type": "markdown",
      "metadata": {
        "id": "FPgUJSgby66F",
        "colab_type": "text"
      },
      "source": [
        "## Using WordNet to get synonyms\n",
        "\n",
        "An important advantage of WordNet is that it is integrated into NLTK (http://www.nltk.org/howto/wordnet.html.)\n",
        "\n",
        "As a word can have several meanings, for each meaning, WordNet will return a different synset, ss, with a representative name, stored in ss.name, its definition (ss.definition()) and a list of synoynyms for this meaning.\n",
        "\n",
        "The following cell shows how to obtain the synonyms for the word **wood**. WordNet returs 8 different meanings for this words, its definitions and synonyms.\n"
      ]
    },
    {
      "cell_type": "code",
      "metadata": {
        "id": "UAmvhtZztet3",
        "colab_type": "code",
        "outputId": "a77aca2c-4710-4fdb-9966-99abe90802c7",
        "colab": {
          "base_uri": "https://localhost:8080/",
          "height": 269
        }
      },
      "source": [
        "import nltk\n",
        "from nltk.corpus import wordnet as wn #we have to import the wordnet from nltk.corpus. Also, we rename it as wn. \n",
        "\n",
        "nltk.download('wordnet') #all-corpora\n",
        "\n",
        "def showSynsets(word):\n",
        "    i=0\n",
        "    print('Synsets for: '+ word)\n",
        "    for i, ss in enumerate(wn.synsets(word)):\n",
        "        print(\"synset:\", i, ss.name(), ss.definition(), ss.lemma_names())\n",
        "    \n",
        "    if i==0:\n",
        "        print('\\t'+word + ' is not found in WordNet')  \n",
        "        \n",
        "    print('')\n",
        "\n",
        "word='wood'\n",
        "showSynsets(word)\n",
        "\n",
        "\n",
        "\n",
        "    "
      ],
      "execution_count": 0,
      "outputs": [
        {
          "output_type": "stream",
          "text": [
            "[nltk_data] Downloading package wordnet to /root/nltk_data...\n",
            "[nltk_data]   Unzipping corpora/wordnet.zip.\n",
            "Synsets for: wood\n",
            "('synset:', 0, u'wood.n.01', u'the hard fibrous lignified substance under the bark of trees', [u'wood'])\n",
            "('synset:', 1, u'forest.n.01', u'the trees and other plants in a large densely wooded area', [u'forest', u'wood', u'woods'])\n",
            "('synset:', 2, u'wood.n.03', u'United States film actress (1938-1981)', [u'Wood', u'Natalie_Wood'])\n",
            "('synset:', 3, u'wood.n.04', u'English conductor (1869-1944)', [u'Wood', u'Sir_Henry_Wood', u'Sir_Henry_Joseph_Wood'])\n",
            "('synset:', 4, u'wood.n.05', u'English writer of novels about murders and thefts and forgeries (1814-1887)', [u'Wood', u'Mrs._Henry_Wood', u'Ellen_Price_Wood'])\n",
            "('synset:', 5, u'wood.n.06', u'United States painter noted for works based on life in the Midwest (1892-1942)', [u'Wood', u'Grant_Wood'])\n",
            "('synset:', 6, u'woodwind.n.01', u'any wind instrument other than the brass instruments', [u'woodwind', u'woodwind_instrument', u'wood'])\n",
            "('synset:', 7, u'wood.n.08', u'a golf club with a long shaft used to hit long shots; originally made with a wooden head', [u'wood'])\n",
            "\n",
            "Synsets for: abilify\n",
            "\tabilify is not found in WordNet\n",
            "\n"
          ],
          "name": "stdout"
        }
      ]
    },
    {
      "cell_type": "markdown",
      "metadata": {
        "id": "1kVd5Of8yCXg",
        "colab_type": "text"
      },
      "source": [
        "However, WordNet is not able to provide any synonym for 'abilify' (a medicine), because it does not exist into WordNet."
      ]
    },
    {
      "cell_type": "code",
      "metadata": {
        "id": "ipyApP12yBq3",
        "colab_type": "code",
        "outputId": "a94699c1-06e7-48bd-be91-dad706d2f96d",
        "colab": {
          "base_uri": "https://localhost:8080/",
          "height": 67
        }
      },
      "source": [
        "word='abilify'   #is a Drug\n",
        "showSynsets(word)"
      ],
      "execution_count": 0,
      "outputs": [
        {
          "output_type": "stream",
          "text": [
            "Synsets for: abilify\n",
            "\tabilify is not found in WordNet\n",
            "\n"
          ],
          "name": "stdout"
        }
      ]
    },
    {
      "cell_type": "markdown",
      "metadata": {
        "id": "1udSTPs_tet_",
        "colab_type": "text"
      },
      "source": [
        "\n",
        "##Using BabelNet to obtain synonyms\n",
        "\n",
        "\n",
        "BabelNet is a multilingual dictionary that covers hundreds of languages that can be used as a semantic network. Unfortuntaly, you can only make 500 requests per day (free). \n",
        "\n",
        "In order to use it, you should follow the instructions described at this link: https://babelnet.org/guide#HowcanIdownloadtheBabelNetindices?\n",
        "\n",
        "\n",
        "BabelNet is also organized as a network of synsets (synonyms). It contains more than 14 millions of synsets (concepts) and more than 700 million of words. Its semantic networks also includes semantic relations including synonyms, hyponyms, and meronyms, with a total of 364.000 relations. \n",
        "\n",
        "The following cell shows how to obtain the synonysm for 'abilify' (a medicine): \n"
      ]
    },
    {
      "cell_type": "code",
      "metadata": {
        "id": "SWbkdZcBteuB",
        "colab_type": "code",
        "outputId": "c1f8e1ff-504f-4ca5-b4eb-1fffc3e586eb",
        "colab": {
          "base_uri": "https://localhost:8080/",
          "height": 202
        }
      },
      "source": [
        "import urllib2\n",
        "import urllib\n",
        "import json\n",
        "import gzip\n",
        "\n",
        "from StringIO import StringIO\n",
        "\n",
        "service_url = 'https://babelnet.io/v4/getSenses'\n",
        "\n",
        "word = 'abilify'\n",
        "lang = 'EN'\n",
        "key  = '04254730-4c4a-4f7d-aeca-026afd9d0ff4'\n",
        "\n",
        "params = {\n",
        "    'word' : word,\n",
        "    'lang' : lang,\n",
        "    'key'  : key\n",
        "}\n",
        "\n",
        "url = service_url + '?' + urllib.urlencode(params)\n",
        "request = urllib2.Request(url)\n",
        "request.add_header('Accept-encoding', 'gzip')\n",
        "response = urllib2.urlopen(request)\n",
        "\n",
        "if response.info().get('Content-Encoding') == 'gzip':\n",
        "    buf = StringIO( response.read())\n",
        "    f = gzip.GzipFile(fileobj=buf)\n",
        "    data = json.loads(f.read())\n",
        "    # retrieving BabelSense data\n",
        "    for result in data:\n",
        "        lemma = result.get('lemma')\n",
        "        language = result.get('language')\n",
        "        source = result.get('source')\n",
        "        print language.encode('utf-8') \\\n",
        "            +\"\\t\"+ str(lemma.encode('utf-8')) \\\n",
        "            +\"\\t\"+ str(source.encode('utf-8'))"
      ],
      "execution_count": 0,
      "outputs": [
        {
          "output_type": "stream",
          "text": [
            "EN\tATCvet_code_QN05AX12\tWIKIRED\n",
            "EN\tAbilify\tWIKIRED\n",
            "EN\tAriprazole\tWIKIRED\n",
            "EN\tATC_code_N05AX12\tWIKIRED\n",
            "EN\tC23H27Cl2N3O2\tWIKIRED\n",
            "EN\tAripiprozole\tWIKIRED\n",
            "EN\tAripiprex\tWIKIRED\n",
            "EN\tAripiprazole\tWIKI\n",
            "EN\tOPC-14597\tWIKIRED\n",
            "EN\tAbilitat\tWIKIRED\n",
            "EN\tAripiprazole\tWIKIDATA\n"
          ],
          "name": "stdout"
        }
      ]
    }
  ]
}