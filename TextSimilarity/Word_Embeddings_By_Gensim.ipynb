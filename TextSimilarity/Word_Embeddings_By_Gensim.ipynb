{
  "nbformat": 4,
  "nbformat_minor": 0,
  "metadata": {
    "colab": {
      "name": "Word Embeddings By Gensim.ipynb",
      "provenance": [],
      "collapsed_sections": [],
      "authorship_tag": "ABX9TyPtjVrUyT8Lv8VVizsShoSb",
      "include_colab_link": true
    },
    "kernelspec": {
      "name": "python3",
      "display_name": "Python 3"
    }
  },
  "cells": [
    {
      "cell_type": "markdown",
      "metadata": {
        "id": "view-in-github",
        "colab_type": "text"
      },
      "source": [
        "<a href=\"https://colab.research.google.com/github/isegura/TextSimilarity/blob/master/Word_Embeddings_By_Gensim.ipynb\" target=\"_parent\"><img src=\"https://colab.research.google.com/assets/colab-badge.svg\" alt=\"Open In Colab\"/></a>"
      ]
    },
    {
      "cell_type": "markdown",
      "metadata": {
        "id": "eGrlDTZC4rzv",
        "colab_type": "text"
      },
      "source": [
        "# Word Embeddings using Gensim\n",
        "\n",
        "Gensim does not include pre-trained models as Spacy. Therefore, you need to load a pre-trained model into Gensim. One of the most pre-trained word embedding model is the  Google News dataset model, containing 300-dimensional embeddings for 3 millions words and phrases. You can download this model from https://code.google.com/archive/p/word2vec/ (1.3 GB compressed).\n",
        "\n",
        "Loading and accessing vectors is then straightforward:\n",
        "\n",
        "https://radimrehurek.com/gensim/auto_examples/tutorials/run_word2vec.html\n",
        "\n",
        "https://kavita-ganesan.com/easily-access-pre-trained-word-embeddings-with-gensim/#.Xl6ngpNKhQI\n",
        "\n",
        "https://www.shanelynn.ie/word-embeddings-in-python-with-spacy-and-gensim/"
      ]
    },
    {
      "cell_type": "code",
      "metadata": {
        "id": "8h-6_l6DxZVY",
        "colab_type": "code",
        "outputId": "4574d9e8-d4f7-40a1-e1c8-20ca0fdcdd30",
        "colab": {
          "base_uri": "https://localhost:8080/",
          "height": 70
        }
      },
      "source": [
        "from google.colab import drive\n",
        "drive.mount(\"/content/drive/\")\n",
        "\n",
        "sst_home='drive/My Drive/Colab Notebooks/'\n",
        "#Modify your folder\n",
        "sst_home += 'TESI/5-TextSimilarity/'\n",
        "\n",
        "!ls 'drive/My Drive/Colab Notebooks/TESI/5-TextSimilarity/data/'"
      ],
      "execution_count": 0,
      "outputs": [
        {
          "output_type": "stream",
          "text": [
            "Drive already mounted at /content/drive/; to attempt to forcibly remount, call drive.mount(\"/content/drive/\", force_remount=True).\n",
            "GoogleNews-vectors-negative300.bin\n"
          ],
          "name": "stdout"
        }
      ]
    },
    {
      "cell_type": "code",
      "metadata": {
        "id": "9AFgePrj_o_0",
        "colab_type": "code",
        "outputId": "2088c4c0-49bc-4cb0-d144-40a44357d218",
        "colab": {
          "base_uri": "https://localhost:8080/",
          "height": 70
        }
      },
      "source": [
        "from gensim.models import KeyedVectors\n",
        "# Load vectors directly from the file\n",
        "model = KeyedVectors.load_word2vec_format(sst_home+'data/GoogleNews-vectors-negative300.bin', binary=True)\n"
      ],
      "execution_count": 0,
      "outputs": [
        {
          "output_type": "stream",
          "text": [
            "/usr/local/lib/python3.6/dist-packages/smart_open/smart_open_lib.py:402: UserWarning: This function is deprecated, use smart_open.open instead. See the migration notes for details: https://github.com/RaRe-Technologies/smart_open/blob/master/README.rst#migrating-to-the-new-open-function\n",
            "  'See the migration notes for details: %s' % _MIGRATION_NOTES_URL\n"
          ],
          "name": "stderr"
        }
      ]
    },
    {
      "cell_type": "code",
      "metadata": {
        "id": "4BuTPQDu11iW",
        "colab_type": "code",
        "outputId": "89993658-600c-4dd1-fae1-da6c6d4dd6b0",
        "colab": {
          "base_uri": "https://localhost:8080/",
          "height": 1000
        }
      },
      "source": [
        "# Access vectors for specific words with a keyed lookup:\n",
        "vector = model['easy']\n",
        "print(vector)\n",
        "# see the shape of the vector (300,)\n",
        "print(vector.shape)\n"
      ],
      "execution_count": 0,
      "outputs": [
        {
          "output_type": "stream",
          "text": [
            "[ 3.06640625e-01  6.83593750e-02 -1.60156250e-01  1.19628906e-01\n",
            " -6.56127930e-03  4.39453125e-03  1.44531250e-01  6.20117188e-02\n",
            "  7.17773438e-02  2.67333984e-02  9.91210938e-02 -2.30712891e-02\n",
            "  5.66406250e-02 -1.74804688e-01 -5.32226562e-02  8.98437500e-02\n",
            "  2.94921875e-01 -6.59179688e-02  1.35742188e-01 -1.73828125e-01\n",
            "  7.32421875e-02  2.08007812e-01  7.27539062e-02  2.19726562e-01\n",
            " -5.02929688e-02 -1.15234375e-01 -1.80664062e-01 -4.29153442e-06\n",
            " -1.69921875e-01 -7.61718750e-02 -4.30297852e-03  1.71875000e-01\n",
            "  2.57812500e-01 -1.33789062e-01  3.95507812e-02  4.24194336e-03\n",
            " -2.80761719e-02 -1.54296875e-01  1.76757812e-01  6.68945312e-02\n",
            "  2.71484375e-01 -1.43554688e-01  4.02343750e-01 -1.19140625e-01\n",
            " -2.58789062e-02 -5.63964844e-02  3.78417969e-02  4.29687500e-02\n",
            "  2.92968750e-02 -2.11181641e-02 -4.15039062e-02  6.29882812e-02\n",
            " -1.90429688e-02 -6.10351562e-02 -1.66992188e-01  1.05468750e-01\n",
            "  4.40597534e-04 -1.81640625e-01  1.90429688e-01  6.98242188e-02\n",
            " -8.64257812e-02 -6.83593750e-02 -3.08593750e-01 -1.25000000e-01\n",
            " -1.67236328e-02 -1.03515625e-01 -2.59765625e-01  2.29492188e-02\n",
            " -1.01074219e-01 -2.53295898e-03  2.92968750e-02  1.67968750e-01\n",
            " -1.64794922e-02 -2.53906250e-01 -1.81640625e-01 -1.24511719e-01\n",
            "  9.61914062e-02  9.42382812e-02  1.46484375e-01  1.94335938e-01\n",
            " -2.61718750e-01  1.19140625e-01 -1.04003906e-01  1.85546875e-02\n",
            "  3.02734375e-02 -1.68945312e-01 -1.00585938e-01 -1.43554688e-01\n",
            "  1.24511719e-01  1.55029297e-02 -1.60156250e-01 -4.63867188e-02\n",
            " -8.64257812e-02 -1.51367188e-01 -2.11914062e-01  3.93066406e-02\n",
            " -3.05175781e-03  5.82885742e-03  8.88671875e-02 -8.98437500e-02\n",
            " -6.68945312e-02  2.24609375e-01 -1.20605469e-01  3.95507812e-02\n",
            " -2.07031250e-01  1.77734375e-01  4.51660156e-03 -1.22558594e-01\n",
            "  2.01171875e-01 -7.51953125e-02 -1.63085938e-01 -1.79687500e-01\n",
            " -2.35351562e-01 -2.81250000e-01  3.28125000e-01  6.59179688e-02\n",
            "  1.35498047e-02 -6.25610352e-03 -1.88446045e-03 -5.17578125e-02\n",
            " -1.80664062e-01  7.37304688e-02  1.48437500e-01 -1.46484375e-01\n",
            " -1.96289062e-01 -8.30078125e-03 -1.02539062e-01 -1.27929688e-01\n",
            "  1.44531250e-01  1.84570312e-01 -2.34375000e-01  1.87988281e-02\n",
            " -3.80859375e-02  4.72656250e-01 -1.02050781e-01 -4.93164062e-02\n",
            "  4.51660156e-02  1.20605469e-01  3.24707031e-02  1.27929688e-01\n",
            " -4.76074219e-02 -2.83203125e-02  1.32812500e-01 -1.03515625e-01\n",
            " -1.19140625e-01 -5.60760498e-04 -1.11816406e-01 -1.31835938e-01\n",
            "  1.38671875e-01 -4.19921875e-02  4.00390625e-02  9.91210938e-02\n",
            " -1.20117188e-01 -4.63867188e-02 -2.62451172e-02  7.86132812e-02\n",
            " -1.64062500e-01  1.49414062e-01 -2.55859375e-01 -1.18164062e-01\n",
            " -4.32128906e-02  2.55859375e-01  1.79687500e-01 -9.22851562e-02\n",
            "  8.10546875e-02 -4.05273438e-02 -3.02734375e-01 -1.06933594e-01\n",
            "  7.03125000e-02 -2.61718750e-01 -1.70898438e-01  1.08398438e-01\n",
            " -2.79296875e-01  1.65039062e-01 -3.46679688e-02  3.63281250e-01\n",
            " -1.48437500e-01 -7.08007812e-02 -8.39843750e-02  5.37109375e-02\n",
            " -1.95312500e-01 -2.71484375e-01  2.46582031e-02 -2.19726562e-01\n",
            " -2.18505859e-02  4.66308594e-02 -1.08398438e-01  9.13085938e-02\n",
            " -8.74023438e-02 -7.12890625e-02 -1.13281250e-01 -9.71679688e-02\n",
            "  1.30004883e-02  4.19921875e-02 -2.81250000e-01 -8.39843750e-02\n",
            " -1.14257812e-01 -1.68945312e-01 -1.76757812e-01 -3.20312500e-01\n",
            "  2.96875000e-01  1.50390625e-01 -2.09960938e-02  1.65039062e-01\n",
            "  9.42382812e-02  9.37500000e-02 -2.96630859e-02 -1.19628906e-02\n",
            "  2.73437500e-02 -2.81982422e-02 -1.23046875e-01  3.75000000e-01\n",
            " -7.95898438e-02  1.97265625e-01  1.73828125e-01 -1.02050781e-01\n",
            "  1.90429688e-01  2.55859375e-01 -2.61718750e-01  3.06396484e-02\n",
            " -5.51757812e-02  1.66992188e-01 -1.69921875e-01 -1.43554688e-01\n",
            " -3.58886719e-02 -1.18652344e-01  2.00195312e-01 -2.79296875e-01\n",
            "  5.78613281e-02  4.61425781e-02  6.54296875e-02  2.21679688e-01\n",
            " -3.00292969e-02 -2.81982422e-02  1.74804688e-01 -7.56835938e-02\n",
            " -9.86328125e-02 -6.00585938e-02  1.01928711e-02  1.94335938e-01\n",
            "  4.10156250e-02 -8.00781250e-02 -4.88281250e-02 -2.65625000e-01\n",
            " -1.54296875e-01  7.76367188e-02 -4.19921875e-02  1.85546875e-01\n",
            " -5.27343750e-02 -1.32812500e-01 -8.66699219e-03 -5.02929688e-02\n",
            "  2.75390625e-01  1.19628906e-01  2.50000000e-01  1.05957031e-01\n",
            "  2.02636719e-02 -8.98437500e-02 -1.25000000e-01 -1.87500000e-01\n",
            "  5.34667969e-02 -1.44531250e-01 -1.81640625e-01 -7.22656250e-02\n",
            "  3.54003906e-02  1.28906250e-01 -2.85644531e-02 -3.80859375e-01\n",
            " -1.03515625e-01 -6.93359375e-02  1.39648438e-01  1.19140625e-01\n",
            "  2.27050781e-02  9.61914062e-02 -8.64257812e-02  1.39648438e-01\n",
            "  3.20312500e-01 -1.84570312e-01  8.59375000e-02 -3.51562500e-02\n",
            " -6.59179688e-02 -1.38671875e-01 -2.10937500e-01 -7.32421875e-02\n",
            " -2.71484375e-01  1.83593750e-01 -9.81445312e-02  6.07910156e-02\n",
            " -7.91015625e-02  1.75781250e-01 -1.17187500e-01  1.53320312e-01\n",
            "  8.25195312e-02 -4.54101562e-02 -2.14843750e-01  2.64892578e-02\n",
            "  1.31835938e-01 -1.59912109e-02 -2.16796875e-01  1.01562500e-01]\n",
            "(300,)\n"
          ],
          "name": "stdout"
        }
      ]
    },
    {
      "cell_type": "markdown",
      "metadata": {
        "id": "O-AbVhOF2CLT",
        "colab_type": "text"
      },
      "source": [
        "You can process the tokens in a sentence:\n"
      ]
    },
    {
      "cell_type": "code",
      "metadata": {
        "id": "UYKu1uzs2FAF",
        "colab_type": "code",
        "outputId": "0f73fc83-79c4-45d1-8526-49432e460425",
        "colab": {
          "base_uri": "https://localhost:8080/",
          "height": 171
        }
      },
      "source": [
        "tokens=\"horse cow apple melon\".split(' ')\n",
        "\n",
        "#vectors = [model[x] for x in tokens]\n",
        "token1=tokens[0]\n",
        "token2=tokens[1]\n",
        "token3=tokens[2]\n",
        "token4=tokens[3]\n",
        "\n",
        "print(token1,token2,model.similarity(token1,token2))\n",
        "print(token1,token3,model.similarity(token1,token3))\n",
        "print(token1,token4,model.similarity(token1,token4))\n",
        "print(token2,token3,model.similarity(token2,token3))\n",
        "print(token2,token4,model.similarity(token2,token4))\n",
        "print(token3,token4,model.similarity(token3,token4))\n"
      ],
      "execution_count": 0,
      "outputs": [
        {
          "output_type": "stream",
          "text": [
            "horse cow 0.49361008\n",
            "horse apple 0.19555025\n",
            "horse melon 0.14167893\n",
            "cow apple 0.3164797\n",
            "cow melon 0.25973558\n",
            "apple melon 0.5719986\n"
          ],
          "name": "stdout"
        },
        {
          "output_type": "stream",
          "text": [
            "/usr/local/lib/python3.6/dist-packages/gensim/matutils.py:737: FutureWarning: Conversion of the second argument of issubdtype from `int` to `np.signedinteger` is deprecated. In future, it will be treated as `np.int64 == np.dtype(int).type`.\n",
            "  if np.issubdtype(vec.dtype, np.int):\n"
          ],
          "name": "stderr"
        }
      ]
    },
    {
      "cell_type": "markdown",
      "metadata": {
        "id": "1G1ViE425FwH",
        "colab_type": "text"
      },
      "source": [
        "You can also use a word embedding model to get the most similar words for a given word"
      ]
    },
    {
      "cell_type": "code",
      "metadata": {
        "id": "TpvGdK_I5K0b",
        "colab_type": "code",
        "outputId": "96c68027-132e-434a-d679-43081a842ec3",
        "colab": {
          "base_uri": "https://localhost:8080/",
          "height": 238
        }
      },
      "source": [
        "model.most_similar('engine')"
      ],
      "execution_count": 0,
      "outputs": [
        {
          "output_type": "stream",
          "text": [
            "/usr/local/lib/python3.6/dist-packages/gensim/matutils.py:737: FutureWarning: Conversion of the second argument of issubdtype from `int` to `np.signedinteger` is deprecated. In future, it will be treated as `np.int64 == np.dtype(int).type`.\n",
            "  if np.issubdtype(vec.dtype, np.int):\n"
          ],
          "name": "stderr"
        },
        {
          "output_type": "execute_result",
          "data": {
            "text/plain": [
              "[('engines', 0.8430763483047485),\n",
              " ('powerplant', 0.6515164375305176),\n",
              " ('V8_engine', 0.6433911323547363),\n",
              " ('Engine', 0.6430366635322571),\n",
              " ('gearbox', 0.6132864952087402),\n",
              " ('diesel_engine', 0.612889289855957),\n",
              " ('turbocharger', 0.5878304243087769),\n",
              " ('twin_turbo_engine', 0.5870457887649536),\n",
              " ('Motion_Detection_VMD', 0.5865147113800049),\n",
              " ('turbo', 0.5859071016311646)]"
            ]
          },
          "metadata": {
            "tags": []
          },
          "execution_count": 20
        }
      ]
    },
    {
      "cell_type": "code",
      "metadata": {
        "id": "EU4wjLBD5aZo",
        "colab_type": "code",
        "outputId": "b055215a-9a43-4165-d54d-35251e13fa7f",
        "colab": {
          "base_uri": "https://localhost:8080/",
          "height": 238
        }
      },
      "source": [
        "model.most_similar('aspirin')"
      ],
      "execution_count": 0,
      "outputs": [
        {
          "output_type": "stream",
          "text": [
            "/usr/local/lib/python3.6/dist-packages/gensim/matutils.py:737: FutureWarning: Conversion of the second argument of issubdtype from `int` to `np.signedinteger` is deprecated. In future, it will be treated as `np.int64 == np.dtype(int).type`.\n",
            "  if np.issubdtype(vec.dtype, np.int):\n"
          ],
          "name": "stderr"
        },
        {
          "output_type": "execute_result",
          "data": {
            "text/plain": [
              "[('Aspirin', 0.8064867854118347),\n",
              " ('dose_aspirin', 0.7422868013381958),\n",
              " ('ibuprofen', 0.7235901951789856),\n",
              " ('statins', 0.7057918906211853),\n",
              " ('statin', 0.6993482112884521),\n",
              " ('calcium_supplements', 0.6864796876907349),\n",
              " ('NSAIDs', 0.6859515309333801),\n",
              " ('NSAID', 0.6582491397857666),\n",
              " ('cholesterol_lowering_medication', 0.6576898097991943),\n",
              " ('cholesterol_lowering_drugs', 0.6565528512001038)]"
            ]
          },
          "metadata": {
            "tags": []
          },
          "execution_count": 21
        }
      ]
    },
    {
      "cell_type": "code",
      "metadata": {
        "id": "pUsx1oM65eBl",
        "colab_type": "code",
        "outputId": "6f5e1a64-7d2a-4b92-fc76-14a09de24685",
        "colab": {
          "base_uri": "https://localhost:8080/",
          "height": 238
        }
      },
      "source": [
        "model.most_similar('coronavirus')"
      ],
      "execution_count": 0,
      "outputs": [
        {
          "output_type": "stream",
          "text": [
            "/usr/local/lib/python3.6/dist-packages/gensim/matutils.py:737: FutureWarning: Conversion of the second argument of issubdtype from `int` to `np.signedinteger` is deprecated. In future, it will be treated as `np.int64 == np.dtype(int).type`.\n",
            "  if np.issubdtype(vec.dtype, np.int):\n"
          ],
          "name": "stderr"
        },
        {
          "output_type": "execute_result",
          "data": {
            "text/plain": [
              "[('corona_virus', 0.7276226282119751),\n",
              " ('coronaviruses', 0.7216538190841675),\n",
              " ('paramyxovirus', 0.7113003730773926),\n",
              " ('SARS_coronavirus', 0.6601907014846802),\n",
              " ('arenavirus', 0.6494410037994385),\n",
              " ('influenza_virus', 0.6449826955795288),\n",
              " ('H#N#_subtype', 0.6360139846801758),\n",
              " ('H#N#_strain', 0.6324741840362549),\n",
              " ('H7_virus', 0.6261191964149475),\n",
              " ('flu_virus', 0.6249204874038696)]"
            ]
          },
          "metadata": {
            "tags": []
          },
          "execution_count": 22
        }
      ]
    }
  ]
}