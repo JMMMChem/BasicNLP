{
  "nbformat": 4,
  "nbformat_minor": 0,
  "metadata": {
    "colab": {
      "name": "Word Embeddings By Spacy.ipynb",
      "provenance": [],
      "collapsed_sections": [],
      "authorship_tag": "ABX9TyO6OEr4vX8NFvuRFxLb4D2M",
      "include_colab_link": true
    },
    "kernelspec": {
      "name": "python3",
      "display_name": "Python 3"
    }
  },
  "cells": [
    {
      "cell_type": "markdown",
      "metadata": {
        "id": "view-in-github",
        "colab_type": "text"
      },
      "source": [
        "<a href=\"https://colab.research.google.com/github/isegura/TextSimilarity/blob/master/Word_Embeddings_By_Spacy.ipynb\" target=\"_parent\"><img src=\"https://colab.research.google.com/assets/colab-badge.svg\" alt=\"Open In Colab\"/></a>"
      ]
    },
    {
      "cell_type": "markdown",
      "metadata": {
        "id": "eGrlDTZC4rzv",
        "colab_type": "text"
      },
      "source": [
        "# Word Embeddings using Spacy\n",
        "\n",
        "Spacy provides different word vector models (https://spacy.io/usage/vectors-similarity). In particular, Spacy offers small models (their names end in sm) that allows us to compare documents and words very fast. However, their results will be worse than using the real word vectors (larger models like en_core_web_lg). \n",
        "\n",
        "Spacy allows us to compute the similarity between words by calculating the similarity between its word vectors. \n",
        "\n",
        "First, you will have to download the model. This model, \n",
        "**en_vectors_web_lg** includes over 1 million unique vectors.\n",
        "Loading the model will take some minutes...\n",
        "\n",
        "Then, you should restart the colab runtime. To do this in the colab menu, go for Runtime > Restart runtime...\n",
        "\n",
        "\n"
      ]
    },
    {
      "cell_type": "code",
      "metadata": {
        "id": "9AFgePrj_o_0",
        "colab_type": "code",
        "outputId": "d615e240-cff5-4338-ce63-056892de037f",
        "colab": {
          "base_uri": "https://localhost:8080/",
          "height": 87
        }
      },
      "source": [
        "!python -m spacy download en_core_web_lg"
      ],
      "execution_count": 0,
      "outputs": [
        {
          "output_type": "stream",
          "text": [
            "Requirement already satisfied: en_core_web_lg==2.1.0 from https://github.com/explosion/spacy-models/releases/download/en_core_web_lg-2.1.0/en_core_web_lg-2.1.0.tar.gz#egg=en_core_web_lg==2.1.0 in /usr/local/lib/python3.6/dist-packages (2.1.0)\n",
            "\u001b[38;5;2m✔ Download and installation successful\u001b[0m\n",
            "You can now load the model via spacy.load('en_core_web_lg')\n"
          ],
          "name": "stdout"
        }
      ]
    },
    {
      "cell_type": "markdown",
      "metadata": {
        "id": "FnRCjngTmwsH",
        "colab_type": "text"
      },
      "source": [
        "Now, we can use the model to look if some words have word vectors. "
      ]
    },
    {
      "cell_type": "code",
      "metadata": {
        "id": "yN1HwyN6lsP1",
        "colab_type": "code",
        "outputId": "3c925bf3-2923-478f-cfcf-d526a761cbc5",
        "colab": {
          "base_uri": "https://localhost:8080/",
          "height": 101
        }
      },
      "source": [
        "import spacy\n",
        "\n",
        "nlp = spacy.load(\"en_core_web_lg\")\n",
        "tokens = nlp(\"horse cow apple orange iansdiufnas\")\n",
        "\n",
        "for token in tokens:\n",
        "    print(token.text, token.has_vector, token.vector_norm, token.is_oov)"
      ],
      "execution_count": 0,
      "outputs": [
        {
          "output_type": "stream",
          "text": [
            "horse True 6.760544 False\n",
            "cow True 6.239251 False\n",
            "apple True 7.1346846 False\n",
            "orange True 6.5420218 False\n",
            "iansdiufnas False 0.0 True\n"
          ],
          "name": "stdout"
        }
      ]
    },
    {
      "cell_type": "markdown",
      "metadata": {
        "id": "FWLeUoWNsmEo",
        "colab_type": "text"
      },
      "source": [
        "You can also access to the word vector using the .vector attribute of each token:"
      ]
    },
    {
      "cell_type": "code",
      "metadata": {
        "id": "11jCzhqZshRz",
        "colab_type": "code",
        "outputId": "55600341-c867-4514-caeb-1aa5896a8dbe",
        "colab": {
          "base_uri": "https://localhost:8080/",
          "height": 857
        }
      },
      "source": [
        "token1=tokens[0]\n",
        "print(token1.vector)"
      ],
      "execution_count": 0,
      "outputs": [
        {
          "output_type": "stream",
          "text": [
            "[-1.4949e-01  3.7432e-01 -2.2050e-01 -4.5928e-01  7.8750e-02 -2.5019e-01\n",
            " -3.9290e-01 -2.1967e-01 -1.3093e-01  2.1229e+00 -5.1749e-01  6.5582e-01\n",
            "  1.9008e-01  4.6526e-01 -1.0754e-01  8.4592e-04  1.2311e-01  7.1000e-01\n",
            "  1.8634e-02 -2.2504e-01 -6.4710e-01 -1.5335e-01 -1.5011e-01  1.3864e-01\n",
            " -1.5222e-01  2.8469e-01 -8.5883e-02 -1.8998e-01 -1.6721e-01  5.5677e-02\n",
            " -2.1522e-01 -1.8072e-01  1.4413e-01  3.0392e-01  1.1802e-01  2.6905e-01\n",
            "  2.8804e-01 -5.9657e-01  3.2062e-01 -1.0510e-02 -3.2404e-01  6.6192e-02\n",
            " -2.1103e-01 -4.0243e-02  3.4579e-01 -5.3813e-01 -9.6661e-02 -4.6308e-01\n",
            "  3.6171e-01 -1.1145e-01  2.7529e-02  2.2443e-01 -6.0474e-02  3.8606e-01\n",
            "  1.1518e-01  6.1889e-01  5.3072e-01  1.7185e-01 -7.4372e-01  2.0626e-01\n",
            " -1.3338e-01  7.8106e-01  3.4880e-01  7.9740e-01 -2.0633e-01 -3.3352e-01\n",
            "  5.6860e-01 -5.1850e-01  1.7523e-01  1.5407e-01 -3.5782e-01 -4.2825e-01\n",
            "  1.4979e-01 -1.6131e-01  1.7891e-01 -1.7277e-01 -1.0291e-01 -3.1026e-02\n",
            " -2.5864e-02 -3.9754e-01 -3.1961e-01 -5.6548e-01  1.0577e-01  6.1896e-02\n",
            "  6.0930e-02  1.6095e-01  1.1639e+00  1.0133e+00  1.7391e-01 -3.8267e-01\n",
            " -7.2081e-02  9.4295e-02 -3.2435e-01 -4.7743e-01 -1.6077e-01 -2.3945e-01\n",
            " -4.1892e-01 -2.0993e-01 -2.8467e-01  1.6401e-01  3.9934e-02  4.1075e-01\n",
            " -2.0111e-01 -4.4042e-01 -7.9692e-02 -5.9438e-01 -2.9712e-01 -2.2155e-01\n",
            "  1.9016e-01 -4.6418e-01  5.2614e-01 -6.3695e-02  5.0269e-01 -3.7826e-01\n",
            "  5.9991e-02  1.8741e-01  2.8928e-01 -3.2516e-01  5.6633e-01  1.8022e-02\n",
            "  1.1157e-01  1.6564e-01  5.7646e-01  2.2731e-01 -5.1696e-01  6.0756e-01\n",
            " -8.3042e-02  9.2886e-02 -8.8175e-02 -2.8210e-01 -4.4587e-01  2.1631e-01\n",
            "  1.2693e-01 -1.7558e-01 -3.4941e-01  1.0758e-01  1.0003e-01 -3.1402e-02\n",
            "  2.5696e-01  5.4274e-02 -2.4113e+00 -3.8065e-01  6.6912e-01  1.9607e-01\n",
            "  5.7343e-01 -1.0486e+00 -2.6291e-01 -1.2177e-01  2.8745e-02  1.8931e-01\n",
            "  4.7389e-01  5.4450e-02 -6.8208e-02 -4.5212e-02  2.3360e-01  1.9322e-01\n",
            "  4.4507e-01 -1.2301e-02  4.6641e-02 -2.8142e-01 -1.4291e-01 -3.1691e-02\n",
            " -1.6424e-01  3.0065e-03  3.6450e-01 -6.3294e-02  2.5798e-01 -3.7876e-01\n",
            " -2.0350e-01 -2.8044e-01  2.5179e-01  3.1442e-01 -8.4762e-02 -2.7969e-01\n",
            " -1.1729e-01  4.7642e-01 -6.9413e-02  6.2906e-01  3.1241e-01  9.3044e-01\n",
            " -4.2651e-03  1.1247e-01  1.5570e-01  1.9584e-01 -5.0358e-01 -1.9703e-01\n",
            "  1.8947e-01  7.3583e-01 -1.4573e-01 -7.0582e-01  7.9334e-02  4.5364e-02\n",
            " -5.2803e-02  7.5444e-02  2.3089e-02  2.1773e-01  3.7430e-02 -3.3329e-01\n",
            " -4.4102e-02 -2.4202e-01 -4.2867e-01 -3.6100e-02 -3.7777e-01  3.1482e-01\n",
            " -3.2823e-01  8.5166e-01  2.1894e-01 -4.2969e-01  1.7971e-01 -3.5266e-01\n",
            "  5.8636e-02 -2.6740e-01  3.3513e-01  5.7596e-01 -3.5526e-01 -4.2603e-01\n",
            " -3.6347e-01  4.0380e-01 -2.7227e-01  6.0534e-01  1.7255e-01 -1.1608e-01\n",
            "  5.7576e-01 -3.8194e-01 -3.7094e-01  5.4062e-01  1.4818e-01  8.3693e-01\n",
            " -1.4759e-01  4.5125e-01 -3.0178e-01  3.4082e-01 -1.0200e-02  2.2459e-01\n",
            " -1.8845e-01  3.2169e-01 -1.8790e-01 -5.3907e-02  1.4606e-02 -4.1616e-01\n",
            " -6.0271e-01 -1.4633e-01  9.4333e-02  4.3951e-02 -4.5448e-02  2.6056e-02\n",
            " -3.8715e-01 -1.6324e-01 -4.6366e-02 -4.7491e-01  2.9669e-01  2.0558e-01\n",
            " -4.8884e-03  2.1776e-01 -2.3001e-01  9.8121e-02  1.6775e-01  3.5335e-01\n",
            " -3.0243e-02  1.2539e-01  4.4437e-01  5.1671e-02 -2.7345e-01 -1.5804e-01\n",
            "  3.1178e-01 -4.2943e-01 -1.0954e-01 -7.6529e-02 -1.3179e-01 -1.7829e-01\n",
            " -1.6963e-01  1.3347e-01 -2.4088e-01 -2.3314e-01 -1.5629e-01  3.7558e-01\n",
            "  5.4874e-01  2.3888e-03  1.0944e-02 -5.0508e-01 -2.3300e-01  2.2902e-01\n",
            " -3.4586e-01  1.7992e-01  6.8974e-01  2.7911e-02 -4.1856e-01 -8.2568e-02\n",
            "  1.2912e-01 -3.2953e-01  3.4691e-03 -6.2280e-01 -3.1631e-01 -1.0388e+00\n",
            " -7.3860e-02  4.0724e-01  6.8898e-01  1.5751e-01  1.1709e-01 -2.8512e-02]\n"
          ],
          "name": "stdout"
        }
      ]
    },
    {
      "cell_type": "markdown",
      "metadata": {
        "id": "ywqcIKk3mco5",
        "colab_type": "text"
      },
      "source": [
        "SpaCy also allows us to to compare two objects and calculate how  similar they are. \n",
        "\n",
        "Each Doc, Span and Token comes with a .similarity() method that lets you compare it with another object, and determine the similarity. \n",
        "\n",
        "For example, the following cell compares the  tokens defined in the previous cell:"
      ]
    },
    {
      "cell_type": "code",
      "metadata": {
        "id": "6VYVucCXEWsb",
        "colab_type": "code",
        "outputId": "f193de2a-4b5d-47f2-d0f9-3716d99fe658",
        "colab": {
          "base_uri": "https://localhost:8080/",
          "height": 118
        }
      },
      "source": [
        "token1=tokens[0]#horse\n",
        "token2=tokens[1]#cow\n",
        "token3=tokens[2]#apple\n",
        "token4=tokens[3]#orange\n",
        "token5=tokens[4]\n",
        "print(token1,token2,token1.similarity(token2))\n",
        "print(token1,token3,token1.similarity(token3))\n",
        "print(token3,token4,token3.similarity(token4))\n",
        "print(token1,token5,token1.similarity(token5))"
      ],
      "execution_count": 0,
      "outputs": [
        {
          "output_type": "stream",
          "text": [
            "horse cow 0.6237078\n",
            "horse apple 0.254428\n",
            "apple orange 0.56189173\n",
            "horse iansdiufnas 0.0\n"
          ],
          "name": "stdout"
        },
        {
          "output_type": "stream",
          "text": [
            "/usr/lib/python3.6/runpy.py:193: UserWarning: [W008] Evaluating Token.similarity based on empty vectors.\n",
            "  \"__main__\", mod_spec)\n"
          ],
          "name": "stderr"
        }
      ]
    },
    {
      "cell_type": "markdown",
      "metadata": {
        "id": "v5hP9d7zn_PO",
        "colab_type": "text"
      },
      "source": [
        "You can also compare two sentences. The method similarity returns a value that ranges from 0 to 1, with 1 meaning both sentences are the same and 0 showing no similarity between both sentences. "
      ]
    },
    {
      "cell_type": "code",
      "metadata": {
        "id": "d6b9N0IgtXM0",
        "colab_type": "code",
        "outputId": "25fed57d-b588-43f1-914d-ecc1c00d1680",
        "colab": {
          "base_uri": "https://localhost:8080/",
          "height": 34
        }
      },
      "source": [
        "doc1 = nlp(\"How can I uninstall the application?\")\n",
        "doc2 = nlp(\"How can I find true love?\")\n",
        "doc1.similarity(doc2)"
      ],
      "execution_count": 0,
      "outputs": [
        {
          "output_type": "execute_result",
          "data": {
            "text/plain": [
              "0.8447064005814853"
            ]
          },
          "metadata": {
            "tags": []
          },
          "execution_count": 14
        }
      ]
    },
    {
      "cell_type": "markdown",
      "metadata": {
        "id": "UG4ETYcotorj",
        "colab_type": "text"
      },
      "source": [
        "In the previous example, the result is quite high even though the sentences don’t seem to be related from a human perspective. This is due to both of the sentences starting with “How can I” and ending with the symbol “?”.\n",
        "\n",
        "To avoid this, you should only keep the relevant parts, for example:"
      ]
    },
    {
      "cell_type": "code",
      "metadata": {
        "id": "px7Mstw1uCq4",
        "colab_type": "code",
        "outputId": "889aebea-e768-4940-967d-7f4272ac582b",
        "colab": {
          "base_uri": "https://localhost:8080/",
          "height": 34
        }
      },
      "source": [
        "doc1 = nlp(\"uninstall the application\")\n",
        "doc2 = nlp(\"find true lovet\")\n",
        "doc1.similarity(doc2)"
      ],
      "execution_count": 0,
      "outputs": [
        {
          "output_type": "execute_result",
          "data": {
            "text/plain": [
              "0.2554321705657904"
            ]
          },
          "metadata": {
            "tags": []
          },
          "execution_count": 15
        }
      ]
    }
  ]
}