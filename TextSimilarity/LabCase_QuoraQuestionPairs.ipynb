{
  "nbformat": 4,
  "nbformat_minor": 0,
  "metadata": {
    "colab": {
      "name": "LabCase-QuoraQuestionPairs.ipynb",
      "provenance": [],
      "authorship_tag": "ABX9TyNOCFrsvxe8N4j4XAUAXLYQ",
      "include_colab_link": true
    },
    "kernelspec": {
      "name": "python3",
      "display_name": "Python 3"
    }
  },
  "cells": [
    {
      "cell_type": "markdown",
      "metadata": {
        "id": "view-in-github",
        "colab_type": "text"
      },
      "source": [
        "<a href=\"https://colab.research.google.com/github/isegura/TextSimilarity/blob/master/LabCase_QuoraQuestionPairs.ipynb\" target=\"_parent\"><img src=\"https://colab.research.google.com/assets/colab-badge.svg\" alt=\"Open In Colab\"/></a>"
      ]
    },
    {
      "cell_type": "markdown",
      "metadata": {
        "id": "6og6t9ggyDol",
        "colab_type": "text"
      },
      "source": [
        "\n",
        "# Lab Case: \n",
        "\n",
        "\n",
        "Quora is a platform to ask questions and share knowledge about different domains. Many people usually ask the similar questions. Multiple questions with the same meaning can cause users to spend more time finding the best answer to their question. Therefore, Quora should identify duplicate questions or questions with very close meaning. \n",
        "\n",
        " The goal of this lab case is to identify if two questions have the same meaning or not. We will use a subset of the Quora Question Pairs dataset (https://www.kaggle.com/c/quora-question-pairs/data). You can download our subset from https://github.com/isegura/TextSimilarity/blob/master/sample.csv.\n",
        "Therefore, you should implement an approach to predict  which of the provided pairs of questions contain two questions with the same meaning.\n",
        "\n",
        "\n",
        "The fields of the dataset are: \n",
        "- id - the id of a training set question pair\n",
        "- qid1, qid2 - unique ids of each question (only available in train.csv)\n",
        "- question1, question2 - the full text of each question\n",
        "- is_duplicate - the target variable, set to 1 if question1 and question2 have essentially the same meaning, and 0 otherwise.\n",
        "\n",
        "\n",
        "Currently, Quora uses a Random Forest model to identify duplicate questions. You could develop a machine learning based approach (in this case, I recommend you to use the full Quora Question Pairs dataset). However, it is enough to develop a simple approach based on word embeddings that allows you to provide a similarity for each pair of questions. \n",
        "\n",
        "\n"
      ]
    },
    {
      "cell_type": "code",
      "metadata": {
        "id": "ElSmEGY5yDQV",
        "colab_type": "code",
        "colab": {}
      },
      "source": [
        ""
      ],
      "execution_count": 0,
      "outputs": []
    }
  ]
}