{
  "nbformat": 4,
  "nbformat_minor": 0,
  "metadata": {
    "colab": {
      "name": "RegularExpressions.ipynb",
      "provenance": [],
      "collapsed_sections": []
    },
    "kernelspec": {
      "name": "python3",
      "display_name": "Python 3"
    }
  },
  "cells": [
    {
      "cell_type": "markdown",
      "metadata": {
        "id": "eh08mnkMdYdm",
        "colab_type": "text"
      },
      "source": [
        "#Regular expressions\n",
        "\n",
        "\n",
        "---\n",
        "\n",
        "\n",
        "\n",
        "A regular expression can be defined as a pattern that can be matched on the text in order to find other strings such as web links, email addresses, telephones, dates, among others.\n",
        "\n",
        "The Python **re** library allows us to implement  regular expressions in a simple way. \n",
        "\n",
        "Below, we study some of the most useful functions of this library:\n",
        "\n",
        "- The **search** function, which takes as first argument the pattern and as second argument the text, returns the first location where the regular expressions produces a match. \n",
        "\n",
        "- The function **findall** returns the list of all possible matches.\n",
        "\n",
        "- The function **match** only checks at the beginning of the string. \n",
        "\n",
        "The three functions return None if there is no match."
      ]
    },
    {
      "cell_type": "code",
      "metadata": {
        "id": "q895_2yHdXmj",
        "colab_type": "code",
        "outputId": "30301b85-6d85-4c15-9c59-cde43dd1e806",
        "colab": {
          "base_uri": "https://localhost:8080/",
          "height": 85
        }
      },
      "source": [
        "import re\n",
        "pattern=r'is'\n",
        "text='Candela is very smart'\n",
        "print('search:',re.search(pattern,text))\n",
        "print('findall:',re.findall(pattern,text))\n",
        "print('match:',re.match(pattern,text))\n",
        "\n",
        "print('match:',re.match(r'Candela',text))\n",
        "\n"
      ],
      "execution_count": 22,
      "outputs": [
        {
          "output_type": "stream",
          "text": [
            "search: <_sre.SRE_Match object; span=(8, 10), match='is'>\n",
            "findall: ['is']\n",
            "match: None\n",
            "match: <_sre.SRE_Match object; span=(0, 7), match='Candela'>\n"
          ],
          "name": "stdout"
        }
      ]
    },
    {
      "cell_type": "markdown",
      "metadata": {
        "id": "DpkWUxOKqvCz",
        "colab_type": "text"
      },
      "source": [
        "If the pattern will be used several time in the same program, from the point of view of efficiency, you must save it as an object. \n",
        "To do this, you must use the **compile** function, which compiles the pattern into a regular expression object. \n"
      ]
    },
    {
      "cell_type": "code",
      "metadata": {
        "id": "5OYWgO41rYiP",
        "colab_type": "code",
        "outputId": "a4d079a5-7542-46ee-cc2e-3a2230c8da02",
        "colab": {
          "base_uri": "https://localhost:8080/",
          "height": 34
        }
      },
      "source": [
        "pattern = re.compile(r\"\\d+\")\n",
        "text = \"My number is 666666666 or 999999999\"\n",
        "#return the first occurrence\n",
        "print(pattern.search(text).group())"
      ],
      "execution_count": 23,
      "outputs": [
        {
          "output_type": "stream",
          "text": [
            "666666666\n"
          ],
          "name": "stdout"
        }
      ]
    },
    {
      "cell_type": "markdown",
      "metadata": {
        "id": "OsFgqZv-e0Sj",
        "colab_type": "text"
      },
      "source": [
        "## Creating patterns\n",
        "\n",
        "\n",
        "You can use special characters in order to build general patterns\n",
        "\n",
        "| Special pattern|    |\n",
        "|------|------|\n",
        "|  .  | matches any character (*)|\n",
        "|  \\w  | matches any single letter, digit or underscore|\n",
        "|  \\W  | matches any character not part of \\w|\n",
        "|  \\d  | matches decimal digit 0-9|\n",
        "| [abc]  | matches a or be or c|\n",
        "| [a-zA-Z0-9]  | matches any lettter (lowercase or uppercase) or any digit (0-9)|\n",
        "| \\s | matches a single whitespace character like: space, newline, tab, return|\n",
        "|\\t | matches tab|\n",
        "|\\n | matches a new line|\n",
        "|\\r | matches return|\n",
        "|^|  matches a pattern at the start of the string|\n",
        "|$|  matches a pattern at the end of the string|\n",
        "\n",
        "Note: To include the character '.' in a pattern, this must be preceded by the character '\\'\n",
        "\n",
        "The following special characters allow us to handle repetitions in the patterns:\n",
        "\n",
        "\n",
        "|Character|    |\n",
        "|------|------|\n",
        "|*|0 or more characters to its left|\n",
        "|+|1 or more characters to its left|\n",
        "|?|0 or 1 character to its left|\n",
        "\n",
        "You may indicate the exact number of repetions. For example, the following patterns:\n",
        "- **\\d{9}** indicates that the digit must be repeated exactly 9 times. \n",
        "- **\\d{6,9}** indicates that the digit must be repeated at least 6 times but not more than 9 times. \n",
        "- **\\d{6,}** indicates that the digit must be repeated at least 6 times or more. \n",
        "\n",
        "\n",
        "\n",
        "\n",
        "## Example: \n",
        "\n",
        "Create a pattern to find email addresses in a text: "
      ]
    },
    {
      "cell_type": "code",
      "metadata": {
        "id": "fj-6y82ikYOA",
        "colab_type": "code",
        "outputId": "d864cfbd-0e4c-49a5-e068-b63d7fc5b8c3",
        "colab": {
          "base_uri": "https://localhost:8080/",
          "height": 68
        }
      },
      "source": [
        "text = 'If you have any doubt, please send me an email to: isegura@inf.uc3m.es or isegurabe@gmail.com'\n",
        "\n",
        "emails=re.findall(r'[\\w\\.-]+@[\\w\\.-]+',text)\n",
        "for x in emails:\n",
        "  print(x)"
      ],
      "execution_count": 24,
      "outputs": [
        {
          "output_type": "stream",
          "text": [
            "isegura@inf.uc3m.es\n",
            "isa1974@gmail.com\n",
            "isegurabe@gmail.com\n"
          ],
          "name": "stdout"
        }
      ]
    },
    {
      "cell_type": "markdown",
      "metadata": {
        "id": "CJLH8f7beEvo",
        "colab_type": "text"
      },
      "source": [
        "## Exercise\n",
        "When creating an email account, 'username@domain.dom', the following rules can be used to avoid creating invalid email addresses. The 'username' part of the email address should follow:\n",
        "\n",
        "- Use only alphanumeric characters. That is, use only “A” through “Z” and “0 (zero)” through “9”.\n",
        "- Do not use the following characters: < > ( ) [ ] ; : , @ \\\n",
        "- As long as they are not the first character in the e-mail address, hyphens ( – ), underscores ( _ ), periods ( . ), and numeric characters (“0” through “9”) are acceptable characters to use within the address.\n",
        "\n",
        "For example:\n",
        "1. isegura-teacher@domain.com is a correct email. However, _isegura_teacher@domain.com is an incorrect email because it starts with a non-standard character.\n",
        "2. isegura.teacher@domain.com is a correct email. However, .isegura.teacher@domain.com is an incorrect email, because it starts with a non-standard character.\n",
        "3. isegura_teacher@domain.com is a correct email. However, isegura teacher@domain.com is an incorrect email, because it contains a whitespace.\n",
        "\n",
        "Please, modify the previous code to follow these rules."
      ]
    },
    {
      "cell_type": "code",
      "metadata": {
        "id": "gqAI4kNTgxom",
        "colab_type": "code",
        "colab": {}
      },
      "source": [
        "#Include your code "
      ],
      "execution_count": 0,
      "outputs": []
    },
    {
      "cell_type": "markdown",
      "metadata": {
        "id": "j5FsE5EKppzH",
        "colab_type": "text"
      },
      "source": [
        "## Using regular expression to replace words \n",
        "\n",
        "The **re** library can also be used to replace texts. In particular, the **sub** function  returns the string obtained by replacing the leftmost occurrence of pattern in the text by a new text. \n",
        "\n",
        "It takes two arguments: the pattern, the new text that will be used to replace the text found by the pattern and the whole text. If the pattern is not found then it returns the original text. \n",
        "\n"
      ]
    },
    {
      "cell_type": "code",
      "metadata": {
        "id": "Xh1xEpW5fPXd",
        "colab_type": "code",
        "outputId": "d77ab9df-2ed7-4c0e-dce3-257a9a928b67",
        "colab": {
          "base_uri": "https://localhost:8080/",
          "height": 34
        }
      },
      "source": [
        "pattern='\\d{3}-\\d{3}-\\d{3}'\n",
        "text='My telephone number is 666-123-458'\n",
        "result=re.sub(pattern,'XXX-XXX-XXX',text)\n",
        "print(result)"
      ],
      "execution_count": 21,
      "outputs": [
        {
          "output_type": "stream",
          "text": [
            "My telephone number is XXX-XXX-XXX\n"
          ],
          "name": "stdout"
        }
      ]
    }
  ]
}
